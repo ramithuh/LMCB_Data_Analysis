{
 "cells": [
  {
   "cell_type": "code",
   "execution_count": 1,
   "id": "c820bd92-7f1b-4e99-8dc8-2161f6a0a4e5",
   "metadata": {},
   "outputs": [],
   "source": [
    "import pandas as pd\n",
    "import matplotlib.pyplot as plt\n",
    "import plotly.graph_objects as go\n",
    "\n",
    "import plotly.io as pio\n",
    "pio.renderers.default = 'colab'"
   ]
  },
  {
   "cell_type": "markdown",
   "id": "2593900f-7ffc-4b7d-8a91-791a5ac098db",
   "metadata": {},
   "source": [
    "### Read data"
   ]
  },
  {
   "cell_type": "code",
   "execution_count": 215,
   "id": "5a5e585b-c350-4737-af50-c095d380627c",
   "metadata": {},
   "outputs": [],
   "source": [
    "# A  = pd.read_csv(\"spotfire_export_20210330012859_30min_rowA.csv\")\n",
    "# BH = pd.read_csv(\"spotfire_export_20210330013652_30min_rows_B-H.csv\")\n",
    "\n",
    "# #combine data\n",
    "# data = pd.concat((A,BH))\n",
    "\n",
    "data_A = pd.read_csv(\"LMCB24_A_48.csv\")\n",
    "data_B = pd.read_csv(\"LMCB24_B_48.csv\")"
   ]
  },
  {
   "cell_type": "markdown",
   "id": "19fe49b5-e7fe-4563-835d-a51a32fe0393",
   "metadata": {},
   "source": [
    "### Plot Helpers"
   ]
  },
  {
   "cell_type": "code",
   "execution_count": 216,
   "id": "97463e87-8143-45c0-9f28-1043d65c9f85",
   "metadata": {},
   "outputs": [],
   "source": [
    "def get_violin_plot(dictionary, key, text):\n",
    "    # Prepare data for violin plot\n",
    "    wells = list(dictionary.keys())\n",
    "    violin_data = {well: dictionary[well]['data'][key] for well in wells}\n",
    "    \n",
    "    # Create the violin plot\n",
    "    \n",
    "    fig = go.Figure()\n",
    "    \n",
    "    for i, well in enumerate(wells):\n",
    "        fig.add_trace(go.Violin(\n",
    "            y=violin_data[well],\n",
    "            name=well,\n",
    "            box_visible=True,  # Show box plot inside the violin\n",
    "            meanline_visible=True,  # Show the mean line\n",
    "            # points=False,  # Show all points\n",
    "            points='outliers',  # Show outlier points\n",
    "            \n",
    "            line_color='rgb(8,81,156)',\n",
    "            fillcolor='rgb(107,174,214)',\n",
    "            \n",
    "            marker=dict(\n",
    "                size=4,  # Size of outlier points\n",
    "                color='rgb(107,0,50)',  # Color of outlier points (red in this case)\n",
    "            ),\n",
    "            opacity=0.6,\n",
    "            width = 0.9\n",
    "        ))\n",
    "    \n",
    "    # Customize the layout\n",
    "    fig.update_layout(\n",
    "        title=f\"Violin Plot of {key} for {text} wells\",\n",
    "        yaxis_title=f\"{key} Intensity\",\n",
    "        xaxis_title='Wells',\n",
    "        showlegend=False,\n",
    "        height=600,\n",
    "        width=1200,\n",
    "        violinmode='group'\n",
    "    )\n",
    "    \n",
    "    # Add gridlines\n",
    "    fig.update_yaxes(showgrid=True, gridwidth=1, gridcolor='LightGrey')\n",
    "    \n",
    "    # # Show the plot\n",
    "    fig.show()"
   ]
  },
  {
   "cell_type": "markdown",
   "id": "0279c2a1-f46f-47a4-873c-2f04b9cab004",
   "metadata": {},
   "source": [
    "### Extract out negative or positive controls"
   ]
  },
  {
   "cell_type": "code",
   "execution_count": 217,
   "id": "61594159-6310-418b-b0cc-4b0569d065ac",
   "metadata": {},
   "outputs": [],
   "source": [
    "def get_negative_controls_data(df):\n",
    "    \"\"\"\n",
    "        Need to extract out data from wells,    \n",
    "    \"\"\"\n",
    "    wells = [\"A6\", \"A12\", \"B1\", \"B7\", \"C6\", \"C12\", \"D1\", \"D3\", \"D5\", \"D7\", \"D9\", \"D11\", \"E2\", \"E4\", \"E6\", \"E8\", \"E10\", \"E12\", \"F1\", \"F7\", \"G6\", \"G12\", \"H1\", \"H7\"]\n",
    "\n",
    "    data = {}\n",
    "\n",
    "    for well in wells:\n",
    "        f_df = df[df.Well ==  well]\n",
    "        data[well] = {\n",
    "                      'data':f_df, \n",
    "                      'AvgIntenCh2': f_df.AvgIntenCh2.describe(),\n",
    "                      'ObjectAvgIntenCh1': f_df.ObjectAvgIntenCh1.describe()\n",
    "                     }\n",
    "    return data\n",
    "\n",
    "def get_positive_controls_data(df):\n",
    "    \"\"\"\n",
    "        Need to extract out data from wells, \n",
    "\n",
    "    \"\"\"\n",
    "    wells = [\"A1\", \"A7\", \"B6\", \"B12\", \"C1\", \"C7\", \"D2\", \"D4\", \"D6\", \"D8\", \"D10\", \"D12\", \"E1\", \"E3\", \"E5\", \"E7\", \"E9\", \"E11\", \"F6\", \"F12\", \"G1\", \"G7\", \"H6\", \"H12\"]\n",
    "    \n",
    "    data = {}\n",
    "\n",
    "    for well in wells:\n",
    "        f_df = df[df.Well ==  well]\n",
    "        data[well] = {\n",
    "                      'data':f_df, \n",
    "                      'AvgIntenCh2': f_df.AvgIntenCh2.describe(),\n",
    "                      'ObjectAvgIntenCh1': f_df.ObjectAvgIntenCh1.describe()\n",
    "                     }\n",
    "    return data"
   ]
  },
  {
   "cell_type": "code",
   "execution_count": null,
   "id": "fe5c536b-3d44-4c54-820e-0e0b7c039dec",
   "metadata": {},
   "outputs": [],
   "source": []
  },
  {
   "cell_type": "code",
   "execution_count": 218,
   "id": "7e113e59-63c4-4a97-a812-6f4f97ca7000",
   "metadata": {},
   "outputs": [],
   "source": [
    "negative_controls_data_A = get_negative_controls_data(data_A)\n",
    "positive_controls_data_A = get_positive_controls_data(data_A)\n",
    "\n",
    "negative_controls_data_B = get_negative_controls_data(data_B)\n",
    "positive_controls_data_B = get_positive_controls_data(data_B)"
   ]
  },
  {
   "cell_type": "code",
   "execution_count": 219,
   "id": "8d442a7a-95c6-4a1d-96d7-3e9d9937d335",
   "metadata": {},
   "outputs": [],
   "source": [
    "# get_violin_plot(negative_controls_data, 'ObjectAvgIntenCh1', \"negative control\")\n",
    "# get_violin_plot(negative_controls_data, 'AvgIntenCh2', \"negative control\")"
   ]
  },
  {
   "cell_type": "code",
   "execution_count": 220,
   "id": "ab4a062e-eec1-4bde-bc10-9227f015a8ba",
   "metadata": {},
   "outputs": [],
   "source": [
    "# get_violin_plot(positive_controls_data, 'ObjectAvgIntenCh1', \"positive control\")\n",
    "# get_violin_plot(positive_controls_data, 'AvgIntenCh2', \"negative control\")"
   ]
  },
  {
   "cell_type": "code",
   "execution_count": null,
   "id": "8e8b402b-ca1b-4a6d-919f-8143e9068869",
   "metadata": {},
   "outputs": [],
   "source": []
  },
  {
   "cell_type": "code",
   "execution_count": null,
   "id": "11281b93-5a9c-46ed-93aa-911e1fde9e4c",
   "metadata": {},
   "outputs": [],
   "source": []
  },
  {
   "cell_type": "code",
   "execution_count": null,
   "id": "74a7b84e-d3d1-4ddf-8d22-179484903da2",
   "metadata": {},
   "outputs": [],
   "source": []
  },
  {
   "cell_type": "code",
   "execution_count": null,
   "id": "451bb28c-b02f-4263-8cf5-59871c8a8e76",
   "metadata": {},
   "outputs": [],
   "source": []
  },
  {
   "cell_type": "code",
   "execution_count": 221,
   "id": "c0c25269-6c92-4db8-819e-c37ee744eb84",
   "metadata": {},
   "outputs": [],
   "source": [
    "import plotly.graph_objects as go\n",
    "\n",
    "def extract_mean_values(data, key):\n",
    "    return [data[well][key]['mean'] for well in data]\n",
    "\n",
    "def plot_mean_values_in_channel(channel):\n",
    "    # Extract mean values for AvgIntenCh2\n",
    "    neg_means = extract_mean_values(negative_controls_data, channel)\n",
    "    pos_means = extract_mean_values(positive_controls_data, channel)\n",
    "    \n",
    "    # Wells for x-axis\n",
    "    neg_wells = list(negative_controls_data.keys())\n",
    "    pos_wells = list(positive_controls_data.keys())\n",
    "    \n",
    "    # Create the stacked bar chart\n",
    "    fig = go.Figure(data=[\n",
    "        go.Bar(\n",
    "            name='Negative Controls', \n",
    "            x=neg_wells, \n",
    "            y=neg_means, \n",
    "            marker_color='red',\n",
    "            text=neg_means,\n",
    "            textposition='outside',\n",
    "            texttemplate='%{text:.1f}'\n",
    "        ),\n",
    "        go.Bar(\n",
    "            name='Positive Controls', \n",
    "            x=pos_wells, \n",
    "            y=pos_means, \n",
    "            marker_color='green',\n",
    "            textfont=dict(\n",
    "                size=20,\n",
    "                family=\"Arial, sans-serif\",\n",
    "                color=\"black\"\n",
    "            ),\n",
    "            text=pos_means,\n",
    "            textposition='outside',\n",
    "            texttemplate='%{text:.1f}',\n",
    "        )\n",
    "    ])\n",
    "    fig.update_traces(textfont_size=123)\n",
    "    # Customize the layout\n",
    "    fig.update_layout(\n",
    "        width = 1400,\n",
    "        height = 800,\n",
    "        barmode='group',\n",
    "        title=f\"{channel} for Negative and Positive Controls\",\n",
    "        xaxis_title='Wells',\n",
    "        yaxis_title=f\"Average Intensity ({channel})\",\n",
    "        legend_title='Control Type',\n",
    "        xaxis_tickangle=-45,\n",
    "        legend=dict(\n",
    "            x=0.2,  # x position (0 to 1)\n",
    "            y=0.95,  # y position (0 to 1)\n",
    "            xanchor='center',  # x anchor point\n",
    "            yanchor='top'  # y anchor point\n",
    "        ),\n",
    "        legend_font_size=16  # Increase legend font size\n",
    "    )\n",
    "    # Increase font size for bar labels\n",
    "    fig.update_traces(textfont_size=26, textangle=0, textposition=\"outside\", cliponaxis=False)\n",
    "    \n",
    "    # Increase font size for axis titles\n",
    "    fig.update_xaxes(title_font=dict(size=22), tickfont=dict(size=18))\n",
    "    fig.update_yaxes(title_font=dict(size=22), tickfont=dict(size=14))\n",
    "\n",
    "    fig.update_layout(title_font=dict(size=24))\n",
    "    \n",
    "    # Show the plot\n",
    "    fig.show()\n",
    "    fig.write_image(f\"images/48_{channel}.pdf\")"
   ]
  },
  {
   "cell_type": "code",
   "execution_count": 248,
   "id": "61e489d9-bd7c-41b5-ba1a-8cb5534a71fd",
   "metadata": {},
   "outputs": [],
   "source": [
    "def plot_stacked_mean_values_in_channel(channel):\n",
    "    # Extract mean values for both datasets\n",
    "    neg_means_A = extract_mean_values(negative_controls_data_A, channel)\n",
    "    pos_means_A = extract_mean_values(positive_controls_data_A, channel)\n",
    "    neg_means_B = extract_mean_values(negative_controls_data_B, channel)\n",
    "    pos_means_B = extract_mean_values(positive_controls_data_B, channel)\n",
    "    \n",
    "    # Get correct wells for each control type\n",
    "    neg_wells = list(negative_controls_data_A.keys())\n",
    "    pos_wells = list(positive_controls_data_A.keys())\n",
    "    \n",
    "    fig = go.Figure()\n",
    "    WIDTH = 0.25\n",
    "    \n",
    "    fig.add_trace(go.Bar(\n",
    "        name='Negative Controls A', \n",
    "        x=neg_wells, \n",
    "        y=neg_means_A, \n",
    "        width = WIDTH,\n",
    "        marker_color='#FF4D4D',  # Brighter red\n",
    "        text=neg_means_A,\n",
    "        textposition='outside',\n",
    "        texttemplate='%{text:.1f}',\n",
    "    ))\n",
    "    \n",
    "    fig.add_trace(go.Bar(\n",
    "        name='Negative Controls B', \n",
    "        x=neg_wells, \n",
    "        y=neg_means_B, \n",
    "        width = WIDTH,\n",
    "        marker_color='#B30000',  # Darker red\n",
    "        text=neg_means_B,\n",
    "        textposition='outside',\n",
    "        texttemplate='%{text:.1f}',\n",
    "    ))\n",
    "    \n",
    "    fig.add_trace(go.Bar(\n",
    "        name='Positive Controls A', \n",
    "        x=pos_wells, \n",
    "        y=pos_means_A, \n",
    "        width = WIDTH,\n",
    "        marker_color='#4D94FF',  # Brighter blue\n",
    "        text=pos_means_A,\n",
    "        textposition='outside',\n",
    "        texttemplate='%{text:.1f}',\n",
    "    ))\n",
    "    \n",
    "    fig.add_trace(go.Bar(\n",
    "        name='Positive Controls B', \n",
    "        x=pos_wells, \n",
    "        y=pos_means_B, \n",
    "        width = WIDTH,\n",
    "        marker_color='#0052CC',  # Darker blue\n",
    "        text=pos_means_B,\n",
    "        textposition='outside',\n",
    "        texttemplate='%{text:.1f}',\n",
    "    ))\n",
    "\n",
    "    # Rest of your code remains the same\n",
    "    fig.update_layout(\n",
    "        width=1100,\n",
    "        height=600,\n",
    "        barmode='group',\n",
    "        bargap=0.000,\n",
    "        bargroupgap=0,\n",
    "        title=f\"{channel} for Negative and Positive Controls - Replicates A and B\",\n",
    "        xaxis_title='Wells',\n",
    "        yaxis_title=f\"Average Intensity ({channel})\",\n",
    "        legend_title='Control Type',\n",
    "        xaxis_tickangle=-45,\n",
    "        legend=dict(\n",
    "            x=0.15,\n",
    "            y=0.9,\n",
    "            xanchor='center',\n",
    "            yanchor='top'\n",
    "        ),\n",
    "    )\n",
    "\n",
    "    fig.update_traces(textfont_size=26, textangle=0, textposition=\"outside\", cliponaxis=False)\n",
    "    fig.update_xaxes(title_font=dict(size=16), tickfont=dict(size=13))\n",
    "    fig.update_yaxes(title_font=dict(size=16), tickfont=dict(size=14))\n",
    "    fig.update_layout(title_font=dict(size=18))\n",
    "    \n",
    "    fig.show()\n",
    "    fig.write_image(f\"images/48_{channel}_replicates.pdf\")\n",
    "    fig.write_html(\"/home/ruh/Rotation 1/rot1_project/data_analysis/fig1.html\")"
   ]
  },
  {
   "cell_type": "code",
   "execution_count": 249,
   "id": "ecc18ff3-a61b-4f66-967c-27a43d12a741",
   "metadata": {},
   "outputs": [
    {
     "data": {
      "text/html": [
       "<html>\n",
       "<head><meta charset=\"utf-8\" /></head>\n",
       "<body>\n",
       "    <div>            <script src=\"https://cdnjs.cloudflare.com/ajax/libs/mathjax/2.7.5/MathJax.js?config=TeX-AMS-MML_SVG\"></script><script type=\"text/javascript\">if (window.MathJax && window.MathJax.Hub && window.MathJax.Hub.Config) {window.MathJax.Hub.Config({SVG: {font: \"STIX-Web\"}});}</script>                <script type=\"text/javascript\">window.PlotlyConfig = {MathJaxConfig: 'local'};</script>\n",
       "        <script charset=\"utf-8\" src=\"https://cdn.plot.ly/plotly-2.35.2.min.js\"></script>                <div id=\"67bca86d-829b-4d97-9266-eb155236ab35\" class=\"plotly-graph-div\" style=\"height:600px; width:1100px;\"></div>            <script type=\"text/javascript\">                                    window.PLOTLYENV=window.PLOTLYENV || {};                                    if (document.getElementById(\"67bca86d-829b-4d97-9266-eb155236ab35\")) {                    Plotly.newPlot(                        \"67bca86d-829b-4d97-9266-eb155236ab35\",                        [{\"marker\":{\"color\":\"#FF4D4D\"},\"name\":\"Negative Controls A\",\"text\":[\"20.200965125060442\",\"14.215201919438211\",\"15.671499802272699\",\"16.835332867776383\",\"19.63243762549237\",\"18.697184421707288\",\"15.9389123646356\",\"15.42515357862989\",\"14.003731283991149\",\"14.736388151820954\",\"14.764708409673304\",\"14.76470287010798\",\"15.973153823518805\",\"15.693176031435863\",\"16.729867583773334\",\"16.651086580524748\",\"19.40378610859985\",\"20.979486831016555\",\"17.302148277008914\",\"17.700761138861225\",\"17.670777704293236\",\"16.001891277386196\",\"17.75664045746503\",\"18.484351546452125\"],\"textposition\":\"outside\",\"texttemplate\":\"%{text:.1f}\",\"width\":0.25,\"x\":[\"A6\",\"A12\",\"B1\",\"B7\",\"C6\",\"C12\",\"D1\",\"D3\",\"D5\",\"D7\",\"D9\",\"D11\",\"E2\",\"E4\",\"E6\",\"E8\",\"E10\",\"E12\",\"F1\",\"F7\",\"G6\",\"G12\",\"H1\",\"H7\"],\"y\":[20.200965125060442,14.215201919438211,15.671499802272699,16.835332867776383,19.63243762549237,18.697184421707288,15.9389123646356,15.42515357862989,14.003731283991149,14.736388151820954,14.764708409673304,14.76470287010798,15.973153823518805,15.693176031435863,16.729867583773334,16.651086580524748,19.40378610859985,20.979486831016555,17.302148277008914,17.700761138861225,17.670777704293236,16.001891277386196,17.75664045746503,18.484351546452125],\"type\":\"bar\",\"textfont\":{\"size\":26},\"cliponaxis\":false,\"textangle\":0},{\"marker\":{\"color\":\"#B30000\"},\"name\":\"Negative Controls B\",\"text\":[\"34.432132225347864\",\"28.741662831414878\",\"32.226503722403024\",\"30.548709194564005\",\"23.3531158760016\",\"54.7663233206489\",\"36.64548275578367\",\"37.23778106485091\",\"25.146203266262717\",\"23.15166871467736\",\"38.52629065401968\",\"49.946600551344154\",\"28.997896107832624\",\"22.29003794623772\",\"47.93727395077743\",\"32.85421410789442\",\"38.95766277208728\",\"48.42374237662693\",\"33.95083530444135\",\"34.342053062155955\",\"35.04521548598265\",\"58.48043982587725\",\"87.3439503776569\",\"40.41981792545757\"],\"textposition\":\"outside\",\"texttemplate\":\"%{text:.1f}\",\"width\":0.25,\"x\":[\"A6\",\"A12\",\"B1\",\"B7\",\"C6\",\"C12\",\"D1\",\"D3\",\"D5\",\"D7\",\"D9\",\"D11\",\"E2\",\"E4\",\"E6\",\"E8\",\"E10\",\"E12\",\"F1\",\"F7\",\"G6\",\"G12\",\"H1\",\"H7\"],\"y\":[34.432132225347864,28.741662831414878,32.226503722403024,30.548709194564005,23.3531158760016,54.7663233206489,36.64548275578367,37.23778106485091,25.146203266262717,23.15166871467736,38.52629065401968,49.946600551344154,28.997896107832624,22.29003794623772,47.93727395077743,32.85421410789442,38.95766277208728,48.42374237662693,33.95083530444135,34.342053062155955,35.04521548598265,58.48043982587725,87.3439503776569,40.41981792545757],\"type\":\"bar\",\"textfont\":{\"size\":26},\"cliponaxis\":false,\"textangle\":0},{\"marker\":{\"color\":\"#4D94FF\"},\"name\":\"Positive Controls A\",\"text\":[\"219.93987796049046\",\"315.29972643940226\",\"209.73750690242903\",\"121.77773855978506\",\"174.93409920877363\",\"204.61486569343805\",\"105.93773899263286\",\"113.50218857055076\",\"135.12201012906985\",\"118.04983814780776\",\"149.15378316275815\",\"213.86021664337324\",\"88.83710806667418\",\"106.62981896552552\",\"193.57133875283668\",\"80.96547630033946\",\"86.32983601650992\",\"150.7691561873858\",\"112.63733999345614\",\"134.89463902520507\",\"31.212798701126157\",\"109.67530112688466\",\"116.40418942263432\",\"128.06723334923672\"],\"textposition\":\"outside\",\"texttemplate\":\"%{text:.1f}\",\"width\":0.25,\"x\":[\"A1\",\"A7\",\"B6\",\"B12\",\"C1\",\"C7\",\"D2\",\"D4\",\"D6\",\"D8\",\"D10\",\"D12\",\"E1\",\"E3\",\"E5\",\"E7\",\"E9\",\"E11\",\"F6\",\"F12\",\"G1\",\"G7\",\"H6\",\"H12\"],\"y\":[219.93987796049046,315.29972643940226,209.73750690242903,121.77773855978506,174.93409920877363,204.61486569343805,105.93773899263286,113.50218857055076,135.12201012906985,118.04983814780776,149.15378316275815,213.86021664337324,88.83710806667418,106.62981896552552,193.57133875283668,80.96547630033946,86.32983601650992,150.7691561873858,112.63733999345614,134.89463902520507,31.212798701126157,109.67530112688466,116.40418942263432,128.06723334923672],\"type\":\"bar\",\"textfont\":{\"size\":26},\"cliponaxis\":false,\"textangle\":0},{\"marker\":{\"color\":\"#0052CC\"},\"name\":\"Positive Controls B\",\"text\":[\"682.7361774958391\",\"483.3133035508967\",\"206.31845619514874\",\"374.5030109168096\",\"252.13282056919437\",\"176.31978879798027\",\"184.00465457835233\",\"139.22714983734116\",\"161.7617878636996\",\"228.23223854130302\",\"163.5405831288053\",\"145.17110649854914\",\"151.24150991506178\",\"128.37248085393225\",\"121.66306601152073\",\"101.33222685484003\",\"123.30095210339391\",\"182.63335753411332\",\"149.93139966815045\",\"126.94296855182318\",\"354.9288795605981\",\"143.16984743884169\",\"216.55196180178353\",\"158.59212206747517\"],\"textposition\":\"outside\",\"texttemplate\":\"%{text:.1f}\",\"width\":0.25,\"x\":[\"A1\",\"A7\",\"B6\",\"B12\",\"C1\",\"C7\",\"D2\",\"D4\",\"D6\",\"D8\",\"D10\",\"D12\",\"E1\",\"E3\",\"E5\",\"E7\",\"E9\",\"E11\",\"F6\",\"F12\",\"G1\",\"G7\",\"H6\",\"H12\"],\"y\":[682.7361774958391,483.3133035508967,206.31845619514874,374.5030109168096,252.13282056919437,176.31978879798027,184.00465457835233,139.22714983734116,161.7617878636996,228.23223854130302,163.5405831288053,145.17110649854914,151.24150991506178,128.37248085393225,121.66306601152073,101.33222685484003,123.30095210339391,182.63335753411332,149.93139966815045,126.94296855182318,354.9288795605981,143.16984743884169,216.55196180178353,158.59212206747517],\"type\":\"bar\",\"textfont\":{\"size\":26},\"cliponaxis\":false,\"textangle\":0}],                        {\"template\":{\"data\":{\"histogram2dcontour\":[{\"type\":\"histogram2dcontour\",\"colorbar\":{\"outlinewidth\":0,\"ticks\":\"\"},\"colorscale\":[[0.0,\"#0d0887\"],[0.1111111111111111,\"#46039f\"],[0.2222222222222222,\"#7201a8\"],[0.3333333333333333,\"#9c179e\"],[0.4444444444444444,\"#bd3786\"],[0.5555555555555556,\"#d8576b\"],[0.6666666666666666,\"#ed7953\"],[0.7777777777777778,\"#fb9f3a\"],[0.8888888888888888,\"#fdca26\"],[1.0,\"#f0f921\"]]}],\"choropleth\":[{\"type\":\"choropleth\",\"colorbar\":{\"outlinewidth\":0,\"ticks\":\"\"}}],\"histogram2d\":[{\"type\":\"histogram2d\",\"colorbar\":{\"outlinewidth\":0,\"ticks\":\"\"},\"colorscale\":[[0.0,\"#0d0887\"],[0.1111111111111111,\"#46039f\"],[0.2222222222222222,\"#7201a8\"],[0.3333333333333333,\"#9c179e\"],[0.4444444444444444,\"#bd3786\"],[0.5555555555555556,\"#d8576b\"],[0.6666666666666666,\"#ed7953\"],[0.7777777777777778,\"#fb9f3a\"],[0.8888888888888888,\"#fdca26\"],[1.0,\"#f0f921\"]]}],\"heatmap\":[{\"type\":\"heatmap\",\"colorbar\":{\"outlinewidth\":0,\"ticks\":\"\"},\"colorscale\":[[0.0,\"#0d0887\"],[0.1111111111111111,\"#46039f\"],[0.2222222222222222,\"#7201a8\"],[0.3333333333333333,\"#9c179e\"],[0.4444444444444444,\"#bd3786\"],[0.5555555555555556,\"#d8576b\"],[0.6666666666666666,\"#ed7953\"],[0.7777777777777778,\"#fb9f3a\"],[0.8888888888888888,\"#fdca26\"],[1.0,\"#f0f921\"]]}],\"heatmapgl\":[{\"type\":\"heatmapgl\",\"colorbar\":{\"outlinewidth\":0,\"ticks\":\"\"},\"colorscale\":[[0.0,\"#0d0887\"],[0.1111111111111111,\"#46039f\"],[0.2222222222222222,\"#7201a8\"],[0.3333333333333333,\"#9c179e\"],[0.4444444444444444,\"#bd3786\"],[0.5555555555555556,\"#d8576b\"],[0.6666666666666666,\"#ed7953\"],[0.7777777777777778,\"#fb9f3a\"],[0.8888888888888888,\"#fdca26\"],[1.0,\"#f0f921\"]]}],\"contourcarpet\":[{\"type\":\"contourcarpet\",\"colorbar\":{\"outlinewidth\":0,\"ticks\":\"\"}}],\"contour\":[{\"type\":\"contour\",\"colorbar\":{\"outlinewidth\":0,\"ticks\":\"\"},\"colorscale\":[[0.0,\"#0d0887\"],[0.1111111111111111,\"#46039f\"],[0.2222222222222222,\"#7201a8\"],[0.3333333333333333,\"#9c179e\"],[0.4444444444444444,\"#bd3786\"],[0.5555555555555556,\"#d8576b\"],[0.6666666666666666,\"#ed7953\"],[0.7777777777777778,\"#fb9f3a\"],[0.8888888888888888,\"#fdca26\"],[1.0,\"#f0f921\"]]}],\"surface\":[{\"type\":\"surface\",\"colorbar\":{\"outlinewidth\":0,\"ticks\":\"\"},\"colorscale\":[[0.0,\"#0d0887\"],[0.1111111111111111,\"#46039f\"],[0.2222222222222222,\"#7201a8\"],[0.3333333333333333,\"#9c179e\"],[0.4444444444444444,\"#bd3786\"],[0.5555555555555556,\"#d8576b\"],[0.6666666666666666,\"#ed7953\"],[0.7777777777777778,\"#fb9f3a\"],[0.8888888888888888,\"#fdca26\"],[1.0,\"#f0f921\"]]}],\"mesh3d\":[{\"type\":\"mesh3d\",\"colorbar\":{\"outlinewidth\":0,\"ticks\":\"\"}}],\"scatter\":[{\"fillpattern\":{\"fillmode\":\"overlay\",\"size\":10,\"solidity\":0.2},\"type\":\"scatter\"}],\"parcoords\":[{\"type\":\"parcoords\",\"line\":{\"colorbar\":{\"outlinewidth\":0,\"ticks\":\"\"}}}],\"scatterpolargl\":[{\"type\":\"scatterpolargl\",\"marker\":{\"colorbar\":{\"outlinewidth\":0,\"ticks\":\"\"}}}],\"bar\":[{\"error_x\":{\"color\":\"#2a3f5f\"},\"error_y\":{\"color\":\"#2a3f5f\"},\"marker\":{\"line\":{\"color\":\"#E5ECF6\",\"width\":0.5},\"pattern\":{\"fillmode\":\"overlay\",\"size\":10,\"solidity\":0.2}},\"type\":\"bar\"}],\"scattergeo\":[{\"type\":\"scattergeo\",\"marker\":{\"colorbar\":{\"outlinewidth\":0,\"ticks\":\"\"}}}],\"scatterpolar\":[{\"type\":\"scatterpolar\",\"marker\":{\"colorbar\":{\"outlinewidth\":0,\"ticks\":\"\"}}}],\"histogram\":[{\"marker\":{\"pattern\":{\"fillmode\":\"overlay\",\"size\":10,\"solidity\":0.2}},\"type\":\"histogram\"}],\"scattergl\":[{\"type\":\"scattergl\",\"marker\":{\"colorbar\":{\"outlinewidth\":0,\"ticks\":\"\"}}}],\"scatter3d\":[{\"type\":\"scatter3d\",\"line\":{\"colorbar\":{\"outlinewidth\":0,\"ticks\":\"\"}},\"marker\":{\"colorbar\":{\"outlinewidth\":0,\"ticks\":\"\"}}}],\"scattermapbox\":[{\"type\":\"scattermapbox\",\"marker\":{\"colorbar\":{\"outlinewidth\":0,\"ticks\":\"\"}}}],\"scatterternary\":[{\"type\":\"scatterternary\",\"marker\":{\"colorbar\":{\"outlinewidth\":0,\"ticks\":\"\"}}}],\"scattercarpet\":[{\"type\":\"scattercarpet\",\"marker\":{\"colorbar\":{\"outlinewidth\":0,\"ticks\":\"\"}}}],\"carpet\":[{\"aaxis\":{\"endlinecolor\":\"#2a3f5f\",\"gridcolor\":\"white\",\"linecolor\":\"white\",\"minorgridcolor\":\"white\",\"startlinecolor\":\"#2a3f5f\"},\"baxis\":{\"endlinecolor\":\"#2a3f5f\",\"gridcolor\":\"white\",\"linecolor\":\"white\",\"minorgridcolor\":\"white\",\"startlinecolor\":\"#2a3f5f\"},\"type\":\"carpet\"}],\"table\":[{\"cells\":{\"fill\":{\"color\":\"#EBF0F8\"},\"line\":{\"color\":\"white\"}},\"header\":{\"fill\":{\"color\":\"#C8D4E3\"},\"line\":{\"color\":\"white\"}},\"type\":\"table\"}],\"barpolar\":[{\"marker\":{\"line\":{\"color\":\"#E5ECF6\",\"width\":0.5},\"pattern\":{\"fillmode\":\"overlay\",\"size\":10,\"solidity\":0.2}},\"type\":\"barpolar\"}],\"pie\":[{\"automargin\":true,\"type\":\"pie\"}]},\"layout\":{\"autotypenumbers\":\"strict\",\"colorway\":[\"#636efa\",\"#EF553B\",\"#00cc96\",\"#ab63fa\",\"#FFA15A\",\"#19d3f3\",\"#FF6692\",\"#B6E880\",\"#FF97FF\",\"#FECB52\"],\"font\":{\"color\":\"#2a3f5f\"},\"hovermode\":\"closest\",\"hoverlabel\":{\"align\":\"left\"},\"paper_bgcolor\":\"white\",\"plot_bgcolor\":\"#E5ECF6\",\"polar\":{\"bgcolor\":\"#E5ECF6\",\"angularaxis\":{\"gridcolor\":\"white\",\"linecolor\":\"white\",\"ticks\":\"\"},\"radialaxis\":{\"gridcolor\":\"white\",\"linecolor\":\"white\",\"ticks\":\"\"}},\"ternary\":{\"bgcolor\":\"#E5ECF6\",\"aaxis\":{\"gridcolor\":\"white\",\"linecolor\":\"white\",\"ticks\":\"\"},\"baxis\":{\"gridcolor\":\"white\",\"linecolor\":\"white\",\"ticks\":\"\"},\"caxis\":{\"gridcolor\":\"white\",\"linecolor\":\"white\",\"ticks\":\"\"}},\"coloraxis\":{\"colorbar\":{\"outlinewidth\":0,\"ticks\":\"\"}},\"colorscale\":{\"sequential\":[[0.0,\"#0d0887\"],[0.1111111111111111,\"#46039f\"],[0.2222222222222222,\"#7201a8\"],[0.3333333333333333,\"#9c179e\"],[0.4444444444444444,\"#bd3786\"],[0.5555555555555556,\"#d8576b\"],[0.6666666666666666,\"#ed7953\"],[0.7777777777777778,\"#fb9f3a\"],[0.8888888888888888,\"#fdca26\"],[1.0,\"#f0f921\"]],\"sequentialminus\":[[0.0,\"#0d0887\"],[0.1111111111111111,\"#46039f\"],[0.2222222222222222,\"#7201a8\"],[0.3333333333333333,\"#9c179e\"],[0.4444444444444444,\"#bd3786\"],[0.5555555555555556,\"#d8576b\"],[0.6666666666666666,\"#ed7953\"],[0.7777777777777778,\"#fb9f3a\"],[0.8888888888888888,\"#fdca26\"],[1.0,\"#f0f921\"]],\"diverging\":[[0,\"#8e0152\"],[0.1,\"#c51b7d\"],[0.2,\"#de77ae\"],[0.3,\"#f1b6da\"],[0.4,\"#fde0ef\"],[0.5,\"#f7f7f7\"],[0.6,\"#e6f5d0\"],[0.7,\"#b8e186\"],[0.8,\"#7fbc41\"],[0.9,\"#4d9221\"],[1,\"#276419\"]]},\"xaxis\":{\"gridcolor\":\"white\",\"linecolor\":\"white\",\"ticks\":\"\",\"title\":{\"standoff\":15},\"zerolinecolor\":\"white\",\"automargin\":true,\"zerolinewidth\":2},\"yaxis\":{\"gridcolor\":\"white\",\"linecolor\":\"white\",\"ticks\":\"\",\"title\":{\"standoff\":15},\"zerolinecolor\":\"white\",\"automargin\":true,\"zerolinewidth\":2},\"scene\":{\"xaxis\":{\"backgroundcolor\":\"#E5ECF6\",\"gridcolor\":\"white\",\"linecolor\":\"white\",\"showbackground\":true,\"ticks\":\"\",\"zerolinecolor\":\"white\",\"gridwidth\":2},\"yaxis\":{\"backgroundcolor\":\"#E5ECF6\",\"gridcolor\":\"white\",\"linecolor\":\"white\",\"showbackground\":true,\"ticks\":\"\",\"zerolinecolor\":\"white\",\"gridwidth\":2},\"zaxis\":{\"backgroundcolor\":\"#E5ECF6\",\"gridcolor\":\"white\",\"linecolor\":\"white\",\"showbackground\":true,\"ticks\":\"\",\"zerolinecolor\":\"white\",\"gridwidth\":2}},\"shapedefaults\":{\"line\":{\"color\":\"#2a3f5f\"}},\"annotationdefaults\":{\"arrowcolor\":\"#2a3f5f\",\"arrowhead\":0,\"arrowwidth\":1},\"geo\":{\"bgcolor\":\"white\",\"landcolor\":\"#E5ECF6\",\"subunitcolor\":\"white\",\"showland\":true,\"showlakes\":true,\"lakecolor\":\"white\"},\"title\":{\"x\":0.05},\"mapbox\":{\"style\":\"light\"}}},\"xaxis\":{\"title\":{\"text\":\"Wells\",\"font\":{\"size\":16}},\"tickangle\":-45,\"tickfont\":{\"size\":13}},\"legend\":{\"title\":{\"text\":\"Control Type\"},\"x\":0.15,\"y\":0.9,\"xanchor\":\"center\",\"yanchor\":\"top\"},\"width\":1100,\"height\":600,\"barmode\":\"group\",\"bargap\":0.0,\"bargroupgap\":0,\"title\":{\"text\":\"AvgIntenCh2 for Negative and Positive Controls - Replicates A and B\",\"font\":{\"size\":18}},\"yaxis\":{\"title\":{\"text\":\"Average Intensity (AvgIntenCh2)\",\"font\":{\"size\":16}},\"tickfont\":{\"size\":14}}},                        {\"responsive\": true}                    ).then(function(){\n",
       "                            \n",
       "var gd = document.getElementById('67bca86d-829b-4d97-9266-eb155236ab35');\n",
       "var x = new MutationObserver(function (mutations, observer) {{\n",
       "        var display = window.getComputedStyle(gd).display;\n",
       "        if (!display || display === 'none') {{\n",
       "            console.log([gd, 'removed!']);\n",
       "            Plotly.purge(gd);\n",
       "            observer.disconnect();\n",
       "        }}\n",
       "}});\n",
       "\n",
       "// Listen for the removal of the full notebook cells\n",
       "var notebookContainer = gd.closest('#notebook-container');\n",
       "if (notebookContainer) {{\n",
       "    x.observe(notebookContainer, {childList: true});\n",
       "}}\n",
       "\n",
       "// Listen for the clearing of the current output cell\n",
       "var outputEl = gd.closest('.output');\n",
       "if (outputEl) {{\n",
       "    x.observe(outputEl, {childList: true});\n",
       "}}\n",
       "\n",
       "                        })                };                            </script>        </div>\n",
       "</body>\n",
       "</html>"
      ]
     },
     "metadata": {},
     "output_type": "display_data"
    }
   ],
   "source": [
    "plot_stacked_mean_values_in_channel('AvgIntenCh2')"
   ]
  },
  {
   "cell_type": "markdown",
   "id": "e2e3e997-8164-4d14-9559-d2c98ad31a6d",
   "metadata": {},
   "source": [
    "### Channel 2 represents dead nuclei"
   ]
  },
  {
   "cell_type": "code",
   "execution_count": 15,
   "id": "356192cc-800a-4add-9b0f-204f79764450",
   "metadata": {},
   "outputs": [
    {
     "data": {
      "text/html": [
       "<html>\n",
       "<head><meta charset=\"utf-8\" /></head>\n",
       "<body>\n",
       "    <div>            <script src=\"https://cdnjs.cloudflare.com/ajax/libs/mathjax/2.7.5/MathJax.js?config=TeX-AMS-MML_SVG\"></script><script type=\"text/javascript\">if (window.MathJax && window.MathJax.Hub && window.MathJax.Hub.Config) {window.MathJax.Hub.Config({SVG: {font: \"STIX-Web\"}});}</script>                <script type=\"text/javascript\">window.PlotlyConfig = {MathJaxConfig: 'local'};</script>\n",
       "        <script charset=\"utf-8\" src=\"https://cdn.plot.ly/plotly-2.35.2.min.js\"></script>                <div id=\"6245bf90-fc02-4981-99c6-6de0baa33335\" class=\"plotly-graph-div\" style=\"height:800px; width:1400px;\"></div>            <script type=\"text/javascript\">                                    window.PLOTLYENV=window.PLOTLYENV || {};                                    if (document.getElementById(\"6245bf90-fc02-4981-99c6-6de0baa33335\")) {                    Plotly.newPlot(                        \"6245bf90-fc02-4981-99c6-6de0baa33335\",                        [{\"marker\":{\"color\":\"red\"},\"name\":\"Negative Controls\",\"text\":[\"20.200965125060442\",\"14.215201919438211\",\"15.671499802272699\",\"16.835332867776383\",\"19.63243762549237\",\"18.697184421707288\",\"15.9389123646356\",\"15.42515357862989\",\"14.003731283991149\",\"14.736388151820954\",\"14.764708409673304\",\"14.76470287010798\",\"15.973153823518805\",\"15.693176031435863\",\"16.729867583773334\",\"16.651086580524748\",\"19.40378610859985\",\"20.979486831016555\",\"17.302148277008914\",\"17.700761138861225\",\"17.670777704293236\",\"16.001891277386196\",\"17.75664045746503\",\"18.484351546452125\"],\"textposition\":\"outside\",\"texttemplate\":\"%{text:.1f}\",\"x\":[\"A6\",\"A12\",\"B1\",\"B7\",\"C6\",\"C12\",\"D1\",\"D3\",\"D5\",\"D7\",\"D9\",\"D11\",\"E2\",\"E4\",\"E6\",\"E8\",\"E10\",\"E12\",\"F1\",\"F7\",\"G6\",\"G12\",\"H1\",\"H7\"],\"y\":[20.200965125060442,14.215201919438211,15.671499802272699,16.835332867776383,19.63243762549237,18.697184421707288,15.9389123646356,15.42515357862989,14.003731283991149,14.736388151820954,14.764708409673304,14.76470287010798,15.973153823518805,15.693176031435863,16.729867583773334,16.651086580524748,19.40378610859985,20.979486831016555,17.302148277008914,17.700761138861225,17.670777704293236,16.001891277386196,17.75664045746503,18.484351546452125],\"type\":\"bar\",\"textfont\":{\"size\":26},\"cliponaxis\":false,\"textangle\":0},{\"marker\":{\"color\":\"green\"},\"name\":\"Positive Controls\",\"text\":[\"219.93987796049046\",\"315.29972643940226\",\"209.73750690242903\",\"121.77773855978506\",\"174.93409920877363\",\"204.61486569343805\",\"105.93773899263286\",\"113.50218857055076\",\"135.12201012906985\",\"118.04983814780776\",\"149.15378316275815\",\"213.86021664337324\",\"88.83710806667418\",\"106.62981896552552\",\"193.57133875283668\",\"80.96547630033946\",\"86.32983601650992\",\"150.7691561873858\",\"112.63733999345614\",\"134.89463902520507\",\"31.212798701126157\",\"109.67530112688466\",\"116.40418942263432\",\"128.06723334923672\"],\"textfont\":{\"color\":\"black\",\"family\":\"Arial, sans-serif\",\"size\":26},\"textposition\":\"outside\",\"texttemplate\":\"%{text:.1f}\",\"x\":[\"A1\",\"A7\",\"B6\",\"B12\",\"C1\",\"C7\",\"D2\",\"D4\",\"D6\",\"D8\",\"D10\",\"D12\",\"E1\",\"E3\",\"E5\",\"E7\",\"E9\",\"E11\",\"F6\",\"F12\",\"G1\",\"G7\",\"H6\",\"H12\"],\"y\":[219.93987796049046,315.29972643940226,209.73750690242903,121.77773855978506,174.93409920877363,204.61486569343805,105.93773899263286,113.50218857055076,135.12201012906985,118.04983814780776,149.15378316275815,213.86021664337324,88.83710806667418,106.62981896552552,193.57133875283668,80.96547630033946,86.32983601650992,150.7691561873858,112.63733999345614,134.89463902520507,31.212798701126157,109.67530112688466,116.40418942263432,128.06723334923672],\"type\":\"bar\",\"cliponaxis\":false,\"textangle\":0}],                        {\"template\":{\"data\":{\"histogram2dcontour\":[{\"type\":\"histogram2dcontour\",\"colorbar\":{\"outlinewidth\":0,\"ticks\":\"\"},\"colorscale\":[[0.0,\"#0d0887\"],[0.1111111111111111,\"#46039f\"],[0.2222222222222222,\"#7201a8\"],[0.3333333333333333,\"#9c179e\"],[0.4444444444444444,\"#bd3786\"],[0.5555555555555556,\"#d8576b\"],[0.6666666666666666,\"#ed7953\"],[0.7777777777777778,\"#fb9f3a\"],[0.8888888888888888,\"#fdca26\"],[1.0,\"#f0f921\"]]}],\"choropleth\":[{\"type\":\"choropleth\",\"colorbar\":{\"outlinewidth\":0,\"ticks\":\"\"}}],\"histogram2d\":[{\"type\":\"histogram2d\",\"colorbar\":{\"outlinewidth\":0,\"ticks\":\"\"},\"colorscale\":[[0.0,\"#0d0887\"],[0.1111111111111111,\"#46039f\"],[0.2222222222222222,\"#7201a8\"],[0.3333333333333333,\"#9c179e\"],[0.4444444444444444,\"#bd3786\"],[0.5555555555555556,\"#d8576b\"],[0.6666666666666666,\"#ed7953\"],[0.7777777777777778,\"#fb9f3a\"],[0.8888888888888888,\"#fdca26\"],[1.0,\"#f0f921\"]]}],\"heatmap\":[{\"type\":\"heatmap\",\"colorbar\":{\"outlinewidth\":0,\"ticks\":\"\"},\"colorscale\":[[0.0,\"#0d0887\"],[0.1111111111111111,\"#46039f\"],[0.2222222222222222,\"#7201a8\"],[0.3333333333333333,\"#9c179e\"],[0.4444444444444444,\"#bd3786\"],[0.5555555555555556,\"#d8576b\"],[0.6666666666666666,\"#ed7953\"],[0.7777777777777778,\"#fb9f3a\"],[0.8888888888888888,\"#fdca26\"],[1.0,\"#f0f921\"]]}],\"heatmapgl\":[{\"type\":\"heatmapgl\",\"colorbar\":{\"outlinewidth\":0,\"ticks\":\"\"},\"colorscale\":[[0.0,\"#0d0887\"],[0.1111111111111111,\"#46039f\"],[0.2222222222222222,\"#7201a8\"],[0.3333333333333333,\"#9c179e\"],[0.4444444444444444,\"#bd3786\"],[0.5555555555555556,\"#d8576b\"],[0.6666666666666666,\"#ed7953\"],[0.7777777777777778,\"#fb9f3a\"],[0.8888888888888888,\"#fdca26\"],[1.0,\"#f0f921\"]]}],\"contourcarpet\":[{\"type\":\"contourcarpet\",\"colorbar\":{\"outlinewidth\":0,\"ticks\":\"\"}}],\"contour\":[{\"type\":\"contour\",\"colorbar\":{\"outlinewidth\":0,\"ticks\":\"\"},\"colorscale\":[[0.0,\"#0d0887\"],[0.1111111111111111,\"#46039f\"],[0.2222222222222222,\"#7201a8\"],[0.3333333333333333,\"#9c179e\"],[0.4444444444444444,\"#bd3786\"],[0.5555555555555556,\"#d8576b\"],[0.6666666666666666,\"#ed7953\"],[0.7777777777777778,\"#fb9f3a\"],[0.8888888888888888,\"#fdca26\"],[1.0,\"#f0f921\"]]}],\"surface\":[{\"type\":\"surface\",\"colorbar\":{\"outlinewidth\":0,\"ticks\":\"\"},\"colorscale\":[[0.0,\"#0d0887\"],[0.1111111111111111,\"#46039f\"],[0.2222222222222222,\"#7201a8\"],[0.3333333333333333,\"#9c179e\"],[0.4444444444444444,\"#bd3786\"],[0.5555555555555556,\"#d8576b\"],[0.6666666666666666,\"#ed7953\"],[0.7777777777777778,\"#fb9f3a\"],[0.8888888888888888,\"#fdca26\"],[1.0,\"#f0f921\"]]}],\"mesh3d\":[{\"type\":\"mesh3d\",\"colorbar\":{\"outlinewidth\":0,\"ticks\":\"\"}}],\"scatter\":[{\"fillpattern\":{\"fillmode\":\"overlay\",\"size\":10,\"solidity\":0.2},\"type\":\"scatter\"}],\"parcoords\":[{\"type\":\"parcoords\",\"line\":{\"colorbar\":{\"outlinewidth\":0,\"ticks\":\"\"}}}],\"scatterpolargl\":[{\"type\":\"scatterpolargl\",\"marker\":{\"colorbar\":{\"outlinewidth\":0,\"ticks\":\"\"}}}],\"bar\":[{\"error_x\":{\"color\":\"#2a3f5f\"},\"error_y\":{\"color\":\"#2a3f5f\"},\"marker\":{\"line\":{\"color\":\"#E5ECF6\",\"width\":0.5},\"pattern\":{\"fillmode\":\"overlay\",\"size\":10,\"solidity\":0.2}},\"type\":\"bar\"}],\"scattergeo\":[{\"type\":\"scattergeo\",\"marker\":{\"colorbar\":{\"outlinewidth\":0,\"ticks\":\"\"}}}],\"scatterpolar\":[{\"type\":\"scatterpolar\",\"marker\":{\"colorbar\":{\"outlinewidth\":0,\"ticks\":\"\"}}}],\"histogram\":[{\"marker\":{\"pattern\":{\"fillmode\":\"overlay\",\"size\":10,\"solidity\":0.2}},\"type\":\"histogram\"}],\"scattergl\":[{\"type\":\"scattergl\",\"marker\":{\"colorbar\":{\"outlinewidth\":0,\"ticks\":\"\"}}}],\"scatter3d\":[{\"type\":\"scatter3d\",\"line\":{\"colorbar\":{\"outlinewidth\":0,\"ticks\":\"\"}},\"marker\":{\"colorbar\":{\"outlinewidth\":0,\"ticks\":\"\"}}}],\"scattermapbox\":[{\"type\":\"scattermapbox\",\"marker\":{\"colorbar\":{\"outlinewidth\":0,\"ticks\":\"\"}}}],\"scatterternary\":[{\"type\":\"scatterternary\",\"marker\":{\"colorbar\":{\"outlinewidth\":0,\"ticks\":\"\"}}}],\"scattercarpet\":[{\"type\":\"scattercarpet\",\"marker\":{\"colorbar\":{\"outlinewidth\":0,\"ticks\":\"\"}}}],\"carpet\":[{\"aaxis\":{\"endlinecolor\":\"#2a3f5f\",\"gridcolor\":\"white\",\"linecolor\":\"white\",\"minorgridcolor\":\"white\",\"startlinecolor\":\"#2a3f5f\"},\"baxis\":{\"endlinecolor\":\"#2a3f5f\",\"gridcolor\":\"white\",\"linecolor\":\"white\",\"minorgridcolor\":\"white\",\"startlinecolor\":\"#2a3f5f\"},\"type\":\"carpet\"}],\"table\":[{\"cells\":{\"fill\":{\"color\":\"#EBF0F8\"},\"line\":{\"color\":\"white\"}},\"header\":{\"fill\":{\"color\":\"#C8D4E3\"},\"line\":{\"color\":\"white\"}},\"type\":\"table\"}],\"barpolar\":[{\"marker\":{\"line\":{\"color\":\"#E5ECF6\",\"width\":0.5},\"pattern\":{\"fillmode\":\"overlay\",\"size\":10,\"solidity\":0.2}},\"type\":\"barpolar\"}],\"pie\":[{\"automargin\":true,\"type\":\"pie\"}]},\"layout\":{\"autotypenumbers\":\"strict\",\"colorway\":[\"#636efa\",\"#EF553B\",\"#00cc96\",\"#ab63fa\",\"#FFA15A\",\"#19d3f3\",\"#FF6692\",\"#B6E880\",\"#FF97FF\",\"#FECB52\"],\"font\":{\"color\":\"#2a3f5f\"},\"hovermode\":\"closest\",\"hoverlabel\":{\"align\":\"left\"},\"paper_bgcolor\":\"white\",\"plot_bgcolor\":\"#E5ECF6\",\"polar\":{\"bgcolor\":\"#E5ECF6\",\"angularaxis\":{\"gridcolor\":\"white\",\"linecolor\":\"white\",\"ticks\":\"\"},\"radialaxis\":{\"gridcolor\":\"white\",\"linecolor\":\"white\",\"ticks\":\"\"}},\"ternary\":{\"bgcolor\":\"#E5ECF6\",\"aaxis\":{\"gridcolor\":\"white\",\"linecolor\":\"white\",\"ticks\":\"\"},\"baxis\":{\"gridcolor\":\"white\",\"linecolor\":\"white\",\"ticks\":\"\"},\"caxis\":{\"gridcolor\":\"white\",\"linecolor\":\"white\",\"ticks\":\"\"}},\"coloraxis\":{\"colorbar\":{\"outlinewidth\":0,\"ticks\":\"\"}},\"colorscale\":{\"sequential\":[[0.0,\"#0d0887\"],[0.1111111111111111,\"#46039f\"],[0.2222222222222222,\"#7201a8\"],[0.3333333333333333,\"#9c179e\"],[0.4444444444444444,\"#bd3786\"],[0.5555555555555556,\"#d8576b\"],[0.6666666666666666,\"#ed7953\"],[0.7777777777777778,\"#fb9f3a\"],[0.8888888888888888,\"#fdca26\"],[1.0,\"#f0f921\"]],\"sequentialminus\":[[0.0,\"#0d0887\"],[0.1111111111111111,\"#46039f\"],[0.2222222222222222,\"#7201a8\"],[0.3333333333333333,\"#9c179e\"],[0.4444444444444444,\"#bd3786\"],[0.5555555555555556,\"#d8576b\"],[0.6666666666666666,\"#ed7953\"],[0.7777777777777778,\"#fb9f3a\"],[0.8888888888888888,\"#fdca26\"],[1.0,\"#f0f921\"]],\"diverging\":[[0,\"#8e0152\"],[0.1,\"#c51b7d\"],[0.2,\"#de77ae\"],[0.3,\"#f1b6da\"],[0.4,\"#fde0ef\"],[0.5,\"#f7f7f7\"],[0.6,\"#e6f5d0\"],[0.7,\"#b8e186\"],[0.8,\"#7fbc41\"],[0.9,\"#4d9221\"],[1,\"#276419\"]]},\"xaxis\":{\"gridcolor\":\"white\",\"linecolor\":\"white\",\"ticks\":\"\",\"title\":{\"standoff\":15},\"zerolinecolor\":\"white\",\"automargin\":true,\"zerolinewidth\":2},\"yaxis\":{\"gridcolor\":\"white\",\"linecolor\":\"white\",\"ticks\":\"\",\"title\":{\"standoff\":15},\"zerolinecolor\":\"white\",\"automargin\":true,\"zerolinewidth\":2},\"scene\":{\"xaxis\":{\"backgroundcolor\":\"#E5ECF6\",\"gridcolor\":\"white\",\"linecolor\":\"white\",\"showbackground\":true,\"ticks\":\"\",\"zerolinecolor\":\"white\",\"gridwidth\":2},\"yaxis\":{\"backgroundcolor\":\"#E5ECF6\",\"gridcolor\":\"white\",\"linecolor\":\"white\",\"showbackground\":true,\"ticks\":\"\",\"zerolinecolor\":\"white\",\"gridwidth\":2},\"zaxis\":{\"backgroundcolor\":\"#E5ECF6\",\"gridcolor\":\"white\",\"linecolor\":\"white\",\"showbackground\":true,\"ticks\":\"\",\"zerolinecolor\":\"white\",\"gridwidth\":2}},\"shapedefaults\":{\"line\":{\"color\":\"#2a3f5f\"}},\"annotationdefaults\":{\"arrowcolor\":\"#2a3f5f\",\"arrowhead\":0,\"arrowwidth\":1},\"geo\":{\"bgcolor\":\"white\",\"landcolor\":\"#E5ECF6\",\"subunitcolor\":\"white\",\"showland\":true,\"showlakes\":true,\"lakecolor\":\"white\"},\"title\":{\"x\":0.05},\"mapbox\":{\"style\":\"light\"}}},\"xaxis\":{\"title\":{\"text\":\"Wells\",\"font\":{\"size\":22}},\"tickangle\":-45,\"tickfont\":{\"size\":18}},\"legend\":{\"font\":{\"size\":16},\"title\":{\"text\":\"Control Type\"},\"x\":0.2,\"y\":0.95,\"xanchor\":\"center\",\"yanchor\":\"top\"},\"width\":1400,\"height\":800,\"barmode\":\"group\",\"title\":{\"text\":\"AvgIntenCh2 for Negative and Positive Controls\",\"font\":{\"size\":24}},\"yaxis\":{\"title\":{\"text\":\"Average Intensity (AvgIntenCh2)\",\"font\":{\"size\":22}},\"tickfont\":{\"size\":14}}},                        {\"responsive\": true}                    ).then(function(){\n",
       "                            \n",
       "var gd = document.getElementById('6245bf90-fc02-4981-99c6-6de0baa33335');\n",
       "var x = new MutationObserver(function (mutations, observer) {{\n",
       "        var display = window.getComputedStyle(gd).display;\n",
       "        if (!display || display === 'none') {{\n",
       "            console.log([gd, 'removed!']);\n",
       "            Plotly.purge(gd);\n",
       "            observer.disconnect();\n",
       "        }}\n",
       "}});\n",
       "\n",
       "// Listen for the removal of the full notebook cells\n",
       "var notebookContainer = gd.closest('#notebook-container');\n",
       "if (notebookContainer) {{\n",
       "    x.observe(notebookContainer, {childList: true});\n",
       "}}\n",
       "\n",
       "// Listen for the clearing of the current output cell\n",
       "var outputEl = gd.closest('.output');\n",
       "if (outputEl) {{\n",
       "    x.observe(outputEl, {childList: true});\n",
       "}}\n",
       "\n",
       "                        })                };                            </script>        </div>\n",
       "</body>\n",
       "</html>"
      ]
     },
     "metadata": {},
     "output_type": "display_data"
    }
   ],
   "source": [
    "plot_mean_values_in_channel('AvgIntenCh2')"
   ]
  },
  {
   "cell_type": "markdown",
   "id": "0421f392-2ef5-4a71-8057-50ea2b2a968e",
   "metadata": {},
   "source": [
    "### Channel 1 represents all dna nuclei (dead+alive)"
   ]
  },
  {
   "cell_type": "code",
   "execution_count": 16,
   "id": "aebf2373-616e-45a1-9e99-468f5207cad5",
   "metadata": {},
   "outputs": [
    {
     "data": {
      "text/html": [
       "<html>\n",
       "<head><meta charset=\"utf-8\" /></head>\n",
       "<body>\n",
       "    <div>            <script src=\"https://cdnjs.cloudflare.com/ajax/libs/mathjax/2.7.5/MathJax.js?config=TeX-AMS-MML_SVG\"></script><script type=\"text/javascript\">if (window.MathJax && window.MathJax.Hub && window.MathJax.Hub.Config) {window.MathJax.Hub.Config({SVG: {font: \"STIX-Web\"}});}</script>                <script type=\"text/javascript\">window.PlotlyConfig = {MathJaxConfig: 'local'};</script>\n",
       "        <script charset=\"utf-8\" src=\"https://cdn.plot.ly/plotly-2.35.2.min.js\"></script>                <div id=\"bc443d14-d29f-4433-a258-4d615ecfceb7\" class=\"plotly-graph-div\" style=\"height:800px; width:1400px;\"></div>            <script type=\"text/javascript\">                                    window.PLOTLYENV=window.PLOTLYENV || {};                                    if (document.getElementById(\"bc443d14-d29f-4433-a258-4d615ecfceb7\")) {                    Plotly.newPlot(                        \"bc443d14-d29f-4433-a258-4d615ecfceb7\",                        [{\"marker\":{\"color\":\"red\"},\"name\":\"Negative Controls\",\"text\":[\"8934.833741605536\",\"8880.043169967357\",\"8766.243947174189\",\"8562.099777702066\",\"8946.586707294138\",\"9452.014165245419\",\"9322.472137865556\",\"9463.475842814769\",\"9501.969615506418\",\"9271.191226758085\",\"9292.089270456356\",\"9265.592494155766\",\"9380.251375353524\",\"9880.117297438468\",\"9517.345540424994\",\"9858.037006192972\",\"10051.374681163\",\"10241.625820092482\",\"9882.965447450337\",\"9876.481410413675\",\"10170.254623102332\",\"10663.576489530647\",\"9971.908024071045\",\"10987.464828652799\"],\"textposition\":\"outside\",\"texttemplate\":\"%{text:.1f}\",\"x\":[\"A6\",\"A12\",\"B1\",\"B7\",\"C6\",\"C12\",\"D1\",\"D3\",\"D5\",\"D7\",\"D9\",\"D11\",\"E2\",\"E4\",\"E6\",\"E8\",\"E10\",\"E12\",\"F1\",\"F7\",\"G6\",\"G12\",\"H1\",\"H7\"],\"y\":[8934.833741605536,8880.043169967357,8766.243947174189,8562.099777702066,8946.586707294138,9452.014165245419,9322.472137865556,9463.475842814769,9501.969615506418,9271.191226758085,9292.089270456356,9265.592494155766,9380.251375353524,9880.117297438468,9517.345540424994,9858.037006192972,10051.374681163,10241.625820092482,9882.965447450337,9876.481410413675,10170.254623102332,10663.576489530647,9971.908024071045,10987.464828652799],\"type\":\"bar\",\"textfont\":{\"size\":26},\"cliponaxis\":false,\"textangle\":0},{\"marker\":{\"color\":\"green\"},\"name\":\"Positive Controls\",\"text\":[\"9825.53867579051\",\"8691.79498741438\",\"9394.12692841845\",\"9399.785829110537\",\"10423.12880880153\",\"10533.316556500937\",\"9635.162860867895\",\"9331.047680144737\",\"10163.67183355182\",\"9123.787526313363\",\"9640.98200591659\",\"10112.972789301826\",\"10694.69261174163\",\"9341.411496765832\",\"9648.681012951085\",\"11344.834577509506\",\"9560.939362100275\",\"9970.282771558619\",\"11189.21512382387\",\"11812.77858444955\",\"12580.633356240409\",\"11907.13136032578\",\"12984.151865528895\",\"13229.612833419475\"],\"textfont\":{\"color\":\"black\",\"family\":\"Arial, sans-serif\",\"size\":26},\"textposition\":\"outside\",\"texttemplate\":\"%{text:.1f}\",\"x\":[\"A1\",\"A7\",\"B6\",\"B12\",\"C1\",\"C7\",\"D2\",\"D4\",\"D6\",\"D8\",\"D10\",\"D12\",\"E1\",\"E3\",\"E5\",\"E7\",\"E9\",\"E11\",\"F6\",\"F12\",\"G1\",\"G7\",\"H6\",\"H12\"],\"y\":[9825.53867579051,8691.79498741438,9394.12692841845,9399.785829110537,10423.12880880153,10533.316556500937,9635.162860867895,9331.047680144737,10163.67183355182,9123.787526313363,9640.98200591659,10112.972789301826,10694.69261174163,9341.411496765832,9648.681012951085,11344.834577509506,9560.939362100275,9970.282771558619,11189.21512382387,11812.77858444955,12580.633356240409,11907.13136032578,12984.151865528895,13229.612833419475],\"type\":\"bar\",\"cliponaxis\":false,\"textangle\":0}],                        {\"template\":{\"data\":{\"histogram2dcontour\":[{\"type\":\"histogram2dcontour\",\"colorbar\":{\"outlinewidth\":0,\"ticks\":\"\"},\"colorscale\":[[0.0,\"#0d0887\"],[0.1111111111111111,\"#46039f\"],[0.2222222222222222,\"#7201a8\"],[0.3333333333333333,\"#9c179e\"],[0.4444444444444444,\"#bd3786\"],[0.5555555555555556,\"#d8576b\"],[0.6666666666666666,\"#ed7953\"],[0.7777777777777778,\"#fb9f3a\"],[0.8888888888888888,\"#fdca26\"],[1.0,\"#f0f921\"]]}],\"choropleth\":[{\"type\":\"choropleth\",\"colorbar\":{\"outlinewidth\":0,\"ticks\":\"\"}}],\"histogram2d\":[{\"type\":\"histogram2d\",\"colorbar\":{\"outlinewidth\":0,\"ticks\":\"\"},\"colorscale\":[[0.0,\"#0d0887\"],[0.1111111111111111,\"#46039f\"],[0.2222222222222222,\"#7201a8\"],[0.3333333333333333,\"#9c179e\"],[0.4444444444444444,\"#bd3786\"],[0.5555555555555556,\"#d8576b\"],[0.6666666666666666,\"#ed7953\"],[0.7777777777777778,\"#fb9f3a\"],[0.8888888888888888,\"#fdca26\"],[1.0,\"#f0f921\"]]}],\"heatmap\":[{\"type\":\"heatmap\",\"colorbar\":{\"outlinewidth\":0,\"ticks\":\"\"},\"colorscale\":[[0.0,\"#0d0887\"],[0.1111111111111111,\"#46039f\"],[0.2222222222222222,\"#7201a8\"],[0.3333333333333333,\"#9c179e\"],[0.4444444444444444,\"#bd3786\"],[0.5555555555555556,\"#d8576b\"],[0.6666666666666666,\"#ed7953\"],[0.7777777777777778,\"#fb9f3a\"],[0.8888888888888888,\"#fdca26\"],[1.0,\"#f0f921\"]]}],\"heatmapgl\":[{\"type\":\"heatmapgl\",\"colorbar\":{\"outlinewidth\":0,\"ticks\":\"\"},\"colorscale\":[[0.0,\"#0d0887\"],[0.1111111111111111,\"#46039f\"],[0.2222222222222222,\"#7201a8\"],[0.3333333333333333,\"#9c179e\"],[0.4444444444444444,\"#bd3786\"],[0.5555555555555556,\"#d8576b\"],[0.6666666666666666,\"#ed7953\"],[0.7777777777777778,\"#fb9f3a\"],[0.8888888888888888,\"#fdca26\"],[1.0,\"#f0f921\"]]}],\"contourcarpet\":[{\"type\":\"contourcarpet\",\"colorbar\":{\"outlinewidth\":0,\"ticks\":\"\"}}],\"contour\":[{\"type\":\"contour\",\"colorbar\":{\"outlinewidth\":0,\"ticks\":\"\"},\"colorscale\":[[0.0,\"#0d0887\"],[0.1111111111111111,\"#46039f\"],[0.2222222222222222,\"#7201a8\"],[0.3333333333333333,\"#9c179e\"],[0.4444444444444444,\"#bd3786\"],[0.5555555555555556,\"#d8576b\"],[0.6666666666666666,\"#ed7953\"],[0.7777777777777778,\"#fb9f3a\"],[0.8888888888888888,\"#fdca26\"],[1.0,\"#f0f921\"]]}],\"surface\":[{\"type\":\"surface\",\"colorbar\":{\"outlinewidth\":0,\"ticks\":\"\"},\"colorscale\":[[0.0,\"#0d0887\"],[0.1111111111111111,\"#46039f\"],[0.2222222222222222,\"#7201a8\"],[0.3333333333333333,\"#9c179e\"],[0.4444444444444444,\"#bd3786\"],[0.5555555555555556,\"#d8576b\"],[0.6666666666666666,\"#ed7953\"],[0.7777777777777778,\"#fb9f3a\"],[0.8888888888888888,\"#fdca26\"],[1.0,\"#f0f921\"]]}],\"mesh3d\":[{\"type\":\"mesh3d\",\"colorbar\":{\"outlinewidth\":0,\"ticks\":\"\"}}],\"scatter\":[{\"fillpattern\":{\"fillmode\":\"overlay\",\"size\":10,\"solidity\":0.2},\"type\":\"scatter\"}],\"parcoords\":[{\"type\":\"parcoords\",\"line\":{\"colorbar\":{\"outlinewidth\":0,\"ticks\":\"\"}}}],\"scatterpolargl\":[{\"type\":\"scatterpolargl\",\"marker\":{\"colorbar\":{\"outlinewidth\":0,\"ticks\":\"\"}}}],\"bar\":[{\"error_x\":{\"color\":\"#2a3f5f\"},\"error_y\":{\"color\":\"#2a3f5f\"},\"marker\":{\"line\":{\"color\":\"#E5ECF6\",\"width\":0.5},\"pattern\":{\"fillmode\":\"overlay\",\"size\":10,\"solidity\":0.2}},\"type\":\"bar\"}],\"scattergeo\":[{\"type\":\"scattergeo\",\"marker\":{\"colorbar\":{\"outlinewidth\":0,\"ticks\":\"\"}}}],\"scatterpolar\":[{\"type\":\"scatterpolar\",\"marker\":{\"colorbar\":{\"outlinewidth\":0,\"ticks\":\"\"}}}],\"histogram\":[{\"marker\":{\"pattern\":{\"fillmode\":\"overlay\",\"size\":10,\"solidity\":0.2}},\"type\":\"histogram\"}],\"scattergl\":[{\"type\":\"scattergl\",\"marker\":{\"colorbar\":{\"outlinewidth\":0,\"ticks\":\"\"}}}],\"scatter3d\":[{\"type\":\"scatter3d\",\"line\":{\"colorbar\":{\"outlinewidth\":0,\"ticks\":\"\"}},\"marker\":{\"colorbar\":{\"outlinewidth\":0,\"ticks\":\"\"}}}],\"scattermapbox\":[{\"type\":\"scattermapbox\",\"marker\":{\"colorbar\":{\"outlinewidth\":0,\"ticks\":\"\"}}}],\"scatterternary\":[{\"type\":\"scatterternary\",\"marker\":{\"colorbar\":{\"outlinewidth\":0,\"ticks\":\"\"}}}],\"scattercarpet\":[{\"type\":\"scattercarpet\",\"marker\":{\"colorbar\":{\"outlinewidth\":0,\"ticks\":\"\"}}}],\"carpet\":[{\"aaxis\":{\"endlinecolor\":\"#2a3f5f\",\"gridcolor\":\"white\",\"linecolor\":\"white\",\"minorgridcolor\":\"white\",\"startlinecolor\":\"#2a3f5f\"},\"baxis\":{\"endlinecolor\":\"#2a3f5f\",\"gridcolor\":\"white\",\"linecolor\":\"white\",\"minorgridcolor\":\"white\",\"startlinecolor\":\"#2a3f5f\"},\"type\":\"carpet\"}],\"table\":[{\"cells\":{\"fill\":{\"color\":\"#EBF0F8\"},\"line\":{\"color\":\"white\"}},\"header\":{\"fill\":{\"color\":\"#C8D4E3\"},\"line\":{\"color\":\"white\"}},\"type\":\"table\"}],\"barpolar\":[{\"marker\":{\"line\":{\"color\":\"#E5ECF6\",\"width\":0.5},\"pattern\":{\"fillmode\":\"overlay\",\"size\":10,\"solidity\":0.2}},\"type\":\"barpolar\"}],\"pie\":[{\"automargin\":true,\"type\":\"pie\"}]},\"layout\":{\"autotypenumbers\":\"strict\",\"colorway\":[\"#636efa\",\"#EF553B\",\"#00cc96\",\"#ab63fa\",\"#FFA15A\",\"#19d3f3\",\"#FF6692\",\"#B6E880\",\"#FF97FF\",\"#FECB52\"],\"font\":{\"color\":\"#2a3f5f\"},\"hovermode\":\"closest\",\"hoverlabel\":{\"align\":\"left\"},\"paper_bgcolor\":\"white\",\"plot_bgcolor\":\"#E5ECF6\",\"polar\":{\"bgcolor\":\"#E5ECF6\",\"angularaxis\":{\"gridcolor\":\"white\",\"linecolor\":\"white\",\"ticks\":\"\"},\"radialaxis\":{\"gridcolor\":\"white\",\"linecolor\":\"white\",\"ticks\":\"\"}},\"ternary\":{\"bgcolor\":\"#E5ECF6\",\"aaxis\":{\"gridcolor\":\"white\",\"linecolor\":\"white\",\"ticks\":\"\"},\"baxis\":{\"gridcolor\":\"white\",\"linecolor\":\"white\",\"ticks\":\"\"},\"caxis\":{\"gridcolor\":\"white\",\"linecolor\":\"white\",\"ticks\":\"\"}},\"coloraxis\":{\"colorbar\":{\"outlinewidth\":0,\"ticks\":\"\"}},\"colorscale\":{\"sequential\":[[0.0,\"#0d0887\"],[0.1111111111111111,\"#46039f\"],[0.2222222222222222,\"#7201a8\"],[0.3333333333333333,\"#9c179e\"],[0.4444444444444444,\"#bd3786\"],[0.5555555555555556,\"#d8576b\"],[0.6666666666666666,\"#ed7953\"],[0.7777777777777778,\"#fb9f3a\"],[0.8888888888888888,\"#fdca26\"],[1.0,\"#f0f921\"]],\"sequentialminus\":[[0.0,\"#0d0887\"],[0.1111111111111111,\"#46039f\"],[0.2222222222222222,\"#7201a8\"],[0.3333333333333333,\"#9c179e\"],[0.4444444444444444,\"#bd3786\"],[0.5555555555555556,\"#d8576b\"],[0.6666666666666666,\"#ed7953\"],[0.7777777777777778,\"#fb9f3a\"],[0.8888888888888888,\"#fdca26\"],[1.0,\"#f0f921\"]],\"diverging\":[[0,\"#8e0152\"],[0.1,\"#c51b7d\"],[0.2,\"#de77ae\"],[0.3,\"#f1b6da\"],[0.4,\"#fde0ef\"],[0.5,\"#f7f7f7\"],[0.6,\"#e6f5d0\"],[0.7,\"#b8e186\"],[0.8,\"#7fbc41\"],[0.9,\"#4d9221\"],[1,\"#276419\"]]},\"xaxis\":{\"gridcolor\":\"white\",\"linecolor\":\"white\",\"ticks\":\"\",\"title\":{\"standoff\":15},\"zerolinecolor\":\"white\",\"automargin\":true,\"zerolinewidth\":2},\"yaxis\":{\"gridcolor\":\"white\",\"linecolor\":\"white\",\"ticks\":\"\",\"title\":{\"standoff\":15},\"zerolinecolor\":\"white\",\"automargin\":true,\"zerolinewidth\":2},\"scene\":{\"xaxis\":{\"backgroundcolor\":\"#E5ECF6\",\"gridcolor\":\"white\",\"linecolor\":\"white\",\"showbackground\":true,\"ticks\":\"\",\"zerolinecolor\":\"white\",\"gridwidth\":2},\"yaxis\":{\"backgroundcolor\":\"#E5ECF6\",\"gridcolor\":\"white\",\"linecolor\":\"white\",\"showbackground\":true,\"ticks\":\"\",\"zerolinecolor\":\"white\",\"gridwidth\":2},\"zaxis\":{\"backgroundcolor\":\"#E5ECF6\",\"gridcolor\":\"white\",\"linecolor\":\"white\",\"showbackground\":true,\"ticks\":\"\",\"zerolinecolor\":\"white\",\"gridwidth\":2}},\"shapedefaults\":{\"line\":{\"color\":\"#2a3f5f\"}},\"annotationdefaults\":{\"arrowcolor\":\"#2a3f5f\",\"arrowhead\":0,\"arrowwidth\":1},\"geo\":{\"bgcolor\":\"white\",\"landcolor\":\"#E5ECF6\",\"subunitcolor\":\"white\",\"showland\":true,\"showlakes\":true,\"lakecolor\":\"white\"},\"title\":{\"x\":0.05},\"mapbox\":{\"style\":\"light\"}}},\"xaxis\":{\"title\":{\"text\":\"Wells\",\"font\":{\"size\":22}},\"tickangle\":-45,\"tickfont\":{\"size\":18}},\"legend\":{\"font\":{\"size\":16},\"title\":{\"text\":\"Control Type\"},\"x\":0.2,\"y\":0.95,\"xanchor\":\"center\",\"yanchor\":\"top\"},\"width\":1400,\"height\":800,\"barmode\":\"group\",\"title\":{\"text\":\"ObjectAvgIntenCh1 for Negative and Positive Controls\",\"font\":{\"size\":24}},\"yaxis\":{\"title\":{\"text\":\"Average Intensity (ObjectAvgIntenCh1)\",\"font\":{\"size\":22}},\"tickfont\":{\"size\":14}}},                        {\"responsive\": true}                    ).then(function(){\n",
       "                            \n",
       "var gd = document.getElementById('bc443d14-d29f-4433-a258-4d615ecfceb7');\n",
       "var x = new MutationObserver(function (mutations, observer) {{\n",
       "        var display = window.getComputedStyle(gd).display;\n",
       "        if (!display || display === 'none') {{\n",
       "            console.log([gd, 'removed!']);\n",
       "            Plotly.purge(gd);\n",
       "            observer.disconnect();\n",
       "        }}\n",
       "}});\n",
       "\n",
       "// Listen for the removal of the full notebook cells\n",
       "var notebookContainer = gd.closest('#notebook-container');\n",
       "if (notebookContainer) {{\n",
       "    x.observe(notebookContainer, {childList: true});\n",
       "}}\n",
       "\n",
       "// Listen for the clearing of the current output cell\n",
       "var outputEl = gd.closest('.output');\n",
       "if (outputEl) {{\n",
       "    x.observe(outputEl, {childList: true});\n",
       "}}\n",
       "\n",
       "                        })                };                            </script>        </div>\n",
       "</body>\n",
       "</html>"
      ]
     },
     "metadata": {},
     "output_type": "display_data"
    }
   ],
   "source": [
    "plot_mean_values_in_channel('ObjectAvgIntenCh1')"
   ]
  },
  {
   "cell_type": "markdown",
   "id": "e35e4fe4-6fa2-4026-b59c-84dbcd6d1695",
   "metadata": {},
   "source": [
    "# Finding LD50"
   ]
  },
  {
   "cell_type": "code",
   "execution_count": 11,
   "id": "ab774280-6e35-4ecc-8e29-4fe797c8d342",
   "metadata": {},
   "outputs": [],
   "source": [
    "## Say we fix the threshold as 20"
   ]
  },
  {
   "cell_type": "code",
   "execution_count": 17,
   "id": "3247325a-8748-4f99-8b00-47f825f7c782",
   "metadata": {},
   "outputs": [
    {
     "data": {
      "text/plain": [
       "1069"
      ]
     },
     "execution_count": 17,
     "metadata": {},
     "output_type": "execute_result"
    }
   ],
   "source": [
    "len(data[data.Well == \"A1\"]['AvgIntenCh2'])"
   ]
  },
  {
   "cell_type": "code",
   "execution_count": 13,
   "id": "80420b3e-0571-4410-a29f-617afb61777b",
   "metadata": {},
   "outputs": [],
   "source": [
    "# now we have 4 replicates of the same experiment. \n",
    "# need to count the deadl/all ratio"
   ]
  },
  {
   "cell_type": "code",
   "execution_count": 23,
   "id": "be74e3d0-49cb-4b93-806d-8c5201921609",
   "metadata": {},
   "outputs": [],
   "source": [
    "def count_ratio(df, row_ids = [\"A\", \"C\", \"G\"], col_ids = [2,3,4,5,8,9,10,11], thresh = 22):\n",
    "\n",
    "    \n",
    "    fig = go.Figure()  # Create a single figure for all curves\n",
    "\n",
    "    for idx, row in enumerate(row_ids):\n",
    "        ratio_per_well = []\n",
    "        total_counts = []\n",
    "\n",
    "        #print(row)\n",
    "        for col in col_ids:\n",
    "            well = row + str(col)\n",
    "            \n",
    "            f_df = df[df.Well == well]\n",
    "            dead_count = (f_df.AvgIntenCh2.values > thresh).sum()\n",
    "            all_count = len(f_df)\n",
    "\n",
    "            #print(all_count)\n",
    "            ratio_per_well.append(dead_count / all_count * 100)\n",
    "            total_counts.append(all_count)\n",
    "\n",
    "        if(row == \"A\" or row == \"B\" or row == \"F\"):\n",
    "            ## only reverse these rows\n",
    "            print(f\"flipping {idx}, {row}\")\n",
    "            ratio_per_well = ratio_per_well[::-1]\n",
    "            total_counts = total_counts[::-1]\n",
    "        \n",
    "        # Add each row's ratio to the figure\n",
    "        fig.add_trace(\n",
    "            go.Scatter(x=list(range(len(ratio_per_well))), y=ratio_per_well, mode='lines+markers', name=row)\n",
    "        )\n",
    "\n",
    "    # Update layout for better visualization\n",
    "    fig.update_layout(\n",
    "        title = f\"Response curves for each replicate (thresh = {thresh})\",\n",
    "        xaxis_title = 'Concentration Group',\n",
    "        yaxis_title = 'Response (%)',\n",
    "        legend_title = 'Replicates'\n",
    "    )\n",
    "\n",
    "    \n",
    "    # Increase font size for axis titles\n",
    "    fig.update_xaxes(title_font=dict(size=22), tickfont=dict(size=18))\n",
    "    fig.update_yaxes(title_font=dict(size=22), tickfont=dict(size=14))\n",
    "\n",
    "    fig.update_layout(title_font=dict(size=24))\n",
    "    \n",
    "    fig.show()  # Display the plot\n",
    "    fig.write_image(f\"response_48_{row_ids}_{thresh}.pdf\")"
   ]
  },
  {
   "cell_type": "code",
   "execution_count": 29,
   "id": "b30c49fe-7258-40ac-932d-21fe23ad4c2c",
   "metadata": {},
   "outputs": [
    {
     "name": "stdout",
     "output_type": "stream",
     "text": [
      "flipping 0, B\n",
      "flipping 1, F\n"
     ]
    },
    {
     "data": {
      "text/html": [
       "<html>\n",
       "<head><meta charset=\"utf-8\" /></head>\n",
       "<body>\n",
       "    <div>            <script src=\"https://cdnjs.cloudflare.com/ajax/libs/mathjax/2.7.5/MathJax.js?config=TeX-AMS-MML_SVG\"></script><script type=\"text/javascript\">if (window.MathJax && window.MathJax.Hub && window.MathJax.Hub.Config) {window.MathJax.Hub.Config({SVG: {font: \"STIX-Web\"}});}</script>                <script type=\"text/javascript\">window.PlotlyConfig = {MathJaxConfig: 'local'};</script>\n",
       "        <script charset=\"utf-8\" src=\"https://cdn.plot.ly/plotly-2.35.2.min.js\"></script>                <div id=\"63903435-82fe-4632-9059-5a54c4395024\" class=\"plotly-graph-div\" style=\"height:525px; width:100%;\"></div>            <script type=\"text/javascript\">                                    window.PLOTLYENV=window.PLOTLYENV || {};                                    if (document.getElementById(\"63903435-82fe-4632-9059-5a54c4395024\")) {                    Plotly.newPlot(                        \"63903435-82fe-4632-9059-5a54c4395024\",                        [{\"mode\":\"lines+markers\",\"name\":\"B\",\"x\":[0,1,2,3,4,5,6,7],\"y\":[3.6724118508505126,2.7365129007036746,3.7649453065377765,2.914210870988867,3.53251898316276,3.7749906867006087,19.64873765093304,17.83840503672613],\"type\":\"scatter\"},{\"mode\":\"lines+markers\",\"name\":\"F\",\"x\":[0,1,2,3,4,5,6,7],\"y\":[4.395604395604396,5.860663691053755,5.746094451427545,3.8763197586727,6.104934659645016,7.0076386582530725,12.036539494895218,15.745192307692307],\"type\":\"scatter\"},{\"mode\":\"lines+markers\",\"name\":\"H\",\"x\":[0,1,2,3,4,5,6,7],\"y\":[9.294605809128631,4.002009377093101,4.462659380692167,5.18079932332417,3.9729119638826185,10.450497642744892,12.121212121212121,12.588401697312587],\"type\":\"scatter\"}],                        {\"template\":{\"data\":{\"histogram2dcontour\":[{\"type\":\"histogram2dcontour\",\"colorbar\":{\"outlinewidth\":0,\"ticks\":\"\"},\"colorscale\":[[0.0,\"#0d0887\"],[0.1111111111111111,\"#46039f\"],[0.2222222222222222,\"#7201a8\"],[0.3333333333333333,\"#9c179e\"],[0.4444444444444444,\"#bd3786\"],[0.5555555555555556,\"#d8576b\"],[0.6666666666666666,\"#ed7953\"],[0.7777777777777778,\"#fb9f3a\"],[0.8888888888888888,\"#fdca26\"],[1.0,\"#f0f921\"]]}],\"choropleth\":[{\"type\":\"choropleth\",\"colorbar\":{\"outlinewidth\":0,\"ticks\":\"\"}}],\"histogram2d\":[{\"type\":\"histogram2d\",\"colorbar\":{\"outlinewidth\":0,\"ticks\":\"\"},\"colorscale\":[[0.0,\"#0d0887\"],[0.1111111111111111,\"#46039f\"],[0.2222222222222222,\"#7201a8\"],[0.3333333333333333,\"#9c179e\"],[0.4444444444444444,\"#bd3786\"],[0.5555555555555556,\"#d8576b\"],[0.6666666666666666,\"#ed7953\"],[0.7777777777777778,\"#fb9f3a\"],[0.8888888888888888,\"#fdca26\"],[1.0,\"#f0f921\"]]}],\"heatmap\":[{\"type\":\"heatmap\",\"colorbar\":{\"outlinewidth\":0,\"ticks\":\"\"},\"colorscale\":[[0.0,\"#0d0887\"],[0.1111111111111111,\"#46039f\"],[0.2222222222222222,\"#7201a8\"],[0.3333333333333333,\"#9c179e\"],[0.4444444444444444,\"#bd3786\"],[0.5555555555555556,\"#d8576b\"],[0.6666666666666666,\"#ed7953\"],[0.7777777777777778,\"#fb9f3a\"],[0.8888888888888888,\"#fdca26\"],[1.0,\"#f0f921\"]]}],\"heatmapgl\":[{\"type\":\"heatmapgl\",\"colorbar\":{\"outlinewidth\":0,\"ticks\":\"\"},\"colorscale\":[[0.0,\"#0d0887\"],[0.1111111111111111,\"#46039f\"],[0.2222222222222222,\"#7201a8\"],[0.3333333333333333,\"#9c179e\"],[0.4444444444444444,\"#bd3786\"],[0.5555555555555556,\"#d8576b\"],[0.6666666666666666,\"#ed7953\"],[0.7777777777777778,\"#fb9f3a\"],[0.8888888888888888,\"#fdca26\"],[1.0,\"#f0f921\"]]}],\"contourcarpet\":[{\"type\":\"contourcarpet\",\"colorbar\":{\"outlinewidth\":0,\"ticks\":\"\"}}],\"contour\":[{\"type\":\"contour\",\"colorbar\":{\"outlinewidth\":0,\"ticks\":\"\"},\"colorscale\":[[0.0,\"#0d0887\"],[0.1111111111111111,\"#46039f\"],[0.2222222222222222,\"#7201a8\"],[0.3333333333333333,\"#9c179e\"],[0.4444444444444444,\"#bd3786\"],[0.5555555555555556,\"#d8576b\"],[0.6666666666666666,\"#ed7953\"],[0.7777777777777778,\"#fb9f3a\"],[0.8888888888888888,\"#fdca26\"],[1.0,\"#f0f921\"]]}],\"surface\":[{\"type\":\"surface\",\"colorbar\":{\"outlinewidth\":0,\"ticks\":\"\"},\"colorscale\":[[0.0,\"#0d0887\"],[0.1111111111111111,\"#46039f\"],[0.2222222222222222,\"#7201a8\"],[0.3333333333333333,\"#9c179e\"],[0.4444444444444444,\"#bd3786\"],[0.5555555555555556,\"#d8576b\"],[0.6666666666666666,\"#ed7953\"],[0.7777777777777778,\"#fb9f3a\"],[0.8888888888888888,\"#fdca26\"],[1.0,\"#f0f921\"]]}],\"mesh3d\":[{\"type\":\"mesh3d\",\"colorbar\":{\"outlinewidth\":0,\"ticks\":\"\"}}],\"scatter\":[{\"fillpattern\":{\"fillmode\":\"overlay\",\"size\":10,\"solidity\":0.2},\"type\":\"scatter\"}],\"parcoords\":[{\"type\":\"parcoords\",\"line\":{\"colorbar\":{\"outlinewidth\":0,\"ticks\":\"\"}}}],\"scatterpolargl\":[{\"type\":\"scatterpolargl\",\"marker\":{\"colorbar\":{\"outlinewidth\":0,\"ticks\":\"\"}}}],\"bar\":[{\"error_x\":{\"color\":\"#2a3f5f\"},\"error_y\":{\"color\":\"#2a3f5f\"},\"marker\":{\"line\":{\"color\":\"#E5ECF6\",\"width\":0.5},\"pattern\":{\"fillmode\":\"overlay\",\"size\":10,\"solidity\":0.2}},\"type\":\"bar\"}],\"scattergeo\":[{\"type\":\"scattergeo\",\"marker\":{\"colorbar\":{\"outlinewidth\":0,\"ticks\":\"\"}}}],\"scatterpolar\":[{\"type\":\"scatterpolar\",\"marker\":{\"colorbar\":{\"outlinewidth\":0,\"ticks\":\"\"}}}],\"histogram\":[{\"marker\":{\"pattern\":{\"fillmode\":\"overlay\",\"size\":10,\"solidity\":0.2}},\"type\":\"histogram\"}],\"scattergl\":[{\"type\":\"scattergl\",\"marker\":{\"colorbar\":{\"outlinewidth\":0,\"ticks\":\"\"}}}],\"scatter3d\":[{\"type\":\"scatter3d\",\"line\":{\"colorbar\":{\"outlinewidth\":0,\"ticks\":\"\"}},\"marker\":{\"colorbar\":{\"outlinewidth\":0,\"ticks\":\"\"}}}],\"scattermapbox\":[{\"type\":\"scattermapbox\",\"marker\":{\"colorbar\":{\"outlinewidth\":0,\"ticks\":\"\"}}}],\"scatterternary\":[{\"type\":\"scatterternary\",\"marker\":{\"colorbar\":{\"outlinewidth\":0,\"ticks\":\"\"}}}],\"scattercarpet\":[{\"type\":\"scattercarpet\",\"marker\":{\"colorbar\":{\"outlinewidth\":0,\"ticks\":\"\"}}}],\"carpet\":[{\"aaxis\":{\"endlinecolor\":\"#2a3f5f\",\"gridcolor\":\"white\",\"linecolor\":\"white\",\"minorgridcolor\":\"white\",\"startlinecolor\":\"#2a3f5f\"},\"baxis\":{\"endlinecolor\":\"#2a3f5f\",\"gridcolor\":\"white\",\"linecolor\":\"white\",\"minorgridcolor\":\"white\",\"startlinecolor\":\"#2a3f5f\"},\"type\":\"carpet\"}],\"table\":[{\"cells\":{\"fill\":{\"color\":\"#EBF0F8\"},\"line\":{\"color\":\"white\"}},\"header\":{\"fill\":{\"color\":\"#C8D4E3\"},\"line\":{\"color\":\"white\"}},\"type\":\"table\"}],\"barpolar\":[{\"marker\":{\"line\":{\"color\":\"#E5ECF6\",\"width\":0.5},\"pattern\":{\"fillmode\":\"overlay\",\"size\":10,\"solidity\":0.2}},\"type\":\"barpolar\"}],\"pie\":[{\"automargin\":true,\"type\":\"pie\"}]},\"layout\":{\"autotypenumbers\":\"strict\",\"colorway\":[\"#636efa\",\"#EF553B\",\"#00cc96\",\"#ab63fa\",\"#FFA15A\",\"#19d3f3\",\"#FF6692\",\"#B6E880\",\"#FF97FF\",\"#FECB52\"],\"font\":{\"color\":\"#2a3f5f\"},\"hovermode\":\"closest\",\"hoverlabel\":{\"align\":\"left\"},\"paper_bgcolor\":\"white\",\"plot_bgcolor\":\"#E5ECF6\",\"polar\":{\"bgcolor\":\"#E5ECF6\",\"angularaxis\":{\"gridcolor\":\"white\",\"linecolor\":\"white\",\"ticks\":\"\"},\"radialaxis\":{\"gridcolor\":\"white\",\"linecolor\":\"white\",\"ticks\":\"\"}},\"ternary\":{\"bgcolor\":\"#E5ECF6\",\"aaxis\":{\"gridcolor\":\"white\",\"linecolor\":\"white\",\"ticks\":\"\"},\"baxis\":{\"gridcolor\":\"white\",\"linecolor\":\"white\",\"ticks\":\"\"},\"caxis\":{\"gridcolor\":\"white\",\"linecolor\":\"white\",\"ticks\":\"\"}},\"coloraxis\":{\"colorbar\":{\"outlinewidth\":0,\"ticks\":\"\"}},\"colorscale\":{\"sequential\":[[0.0,\"#0d0887\"],[0.1111111111111111,\"#46039f\"],[0.2222222222222222,\"#7201a8\"],[0.3333333333333333,\"#9c179e\"],[0.4444444444444444,\"#bd3786\"],[0.5555555555555556,\"#d8576b\"],[0.6666666666666666,\"#ed7953\"],[0.7777777777777778,\"#fb9f3a\"],[0.8888888888888888,\"#fdca26\"],[1.0,\"#f0f921\"]],\"sequentialminus\":[[0.0,\"#0d0887\"],[0.1111111111111111,\"#46039f\"],[0.2222222222222222,\"#7201a8\"],[0.3333333333333333,\"#9c179e\"],[0.4444444444444444,\"#bd3786\"],[0.5555555555555556,\"#d8576b\"],[0.6666666666666666,\"#ed7953\"],[0.7777777777777778,\"#fb9f3a\"],[0.8888888888888888,\"#fdca26\"],[1.0,\"#f0f921\"]],\"diverging\":[[0,\"#8e0152\"],[0.1,\"#c51b7d\"],[0.2,\"#de77ae\"],[0.3,\"#f1b6da\"],[0.4,\"#fde0ef\"],[0.5,\"#f7f7f7\"],[0.6,\"#e6f5d0\"],[0.7,\"#b8e186\"],[0.8,\"#7fbc41\"],[0.9,\"#4d9221\"],[1,\"#276419\"]]},\"xaxis\":{\"gridcolor\":\"white\",\"linecolor\":\"white\",\"ticks\":\"\",\"title\":{\"standoff\":15},\"zerolinecolor\":\"white\",\"automargin\":true,\"zerolinewidth\":2},\"yaxis\":{\"gridcolor\":\"white\",\"linecolor\":\"white\",\"ticks\":\"\",\"title\":{\"standoff\":15},\"zerolinecolor\":\"white\",\"automargin\":true,\"zerolinewidth\":2},\"scene\":{\"xaxis\":{\"backgroundcolor\":\"#E5ECF6\",\"gridcolor\":\"white\",\"linecolor\":\"white\",\"showbackground\":true,\"ticks\":\"\",\"zerolinecolor\":\"white\",\"gridwidth\":2},\"yaxis\":{\"backgroundcolor\":\"#E5ECF6\",\"gridcolor\":\"white\",\"linecolor\":\"white\",\"showbackground\":true,\"ticks\":\"\",\"zerolinecolor\":\"white\",\"gridwidth\":2},\"zaxis\":{\"backgroundcolor\":\"#E5ECF6\",\"gridcolor\":\"white\",\"linecolor\":\"white\",\"showbackground\":true,\"ticks\":\"\",\"zerolinecolor\":\"white\",\"gridwidth\":2}},\"shapedefaults\":{\"line\":{\"color\":\"#2a3f5f\"}},\"annotationdefaults\":{\"arrowcolor\":\"#2a3f5f\",\"arrowhead\":0,\"arrowwidth\":1},\"geo\":{\"bgcolor\":\"white\",\"landcolor\":\"#E5ECF6\",\"subunitcolor\":\"white\",\"showland\":true,\"showlakes\":true,\"lakecolor\":\"white\"},\"title\":{\"x\":0.05},\"mapbox\":{\"style\":\"light\"}}},\"title\":{\"text\":\"Response curves for each replicate (thresh = 22)\",\"font\":{\"size\":24}},\"xaxis\":{\"title\":{\"text\":\"Concentration Group\",\"font\":{\"size\":22}},\"tickfont\":{\"size\":18}},\"yaxis\":{\"title\":{\"text\":\"Response (%)\",\"font\":{\"size\":22}},\"tickfont\":{\"size\":14}},\"legend\":{\"title\":{\"text\":\"Replicates\"}}},                        {\"responsive\": true}                    ).then(function(){\n",
       "                            \n",
       "var gd = document.getElementById('63903435-82fe-4632-9059-5a54c4395024');\n",
       "var x = new MutationObserver(function (mutations, observer) {{\n",
       "        var display = window.getComputedStyle(gd).display;\n",
       "        if (!display || display === 'none') {{\n",
       "            console.log([gd, 'removed!']);\n",
       "            Plotly.purge(gd);\n",
       "            observer.disconnect();\n",
       "        }}\n",
       "}});\n",
       "\n",
       "// Listen for the removal of the full notebook cells\n",
       "var notebookContainer = gd.closest('#notebook-container');\n",
       "if (notebookContainer) {{\n",
       "    x.observe(notebookContainer, {childList: true});\n",
       "}}\n",
       "\n",
       "// Listen for the clearing of the current output cell\n",
       "var outputEl = gd.closest('.output');\n",
       "if (outputEl) {{\n",
       "    x.observe(outputEl, {childList: true});\n",
       "}}\n",
       "\n",
       "                        })                };                            </script>        </div>\n",
       "</body>\n",
       "</html>"
      ]
     },
     "metadata": {},
     "output_type": "display_data"
    }
   ],
   "source": [
    "count_ratio(data, row_ids = [\"B\", \"F\", \"H\"], col_ids = [2,3,4,5,8,9,10,11], thresh = 22)"
   ]
  },
  {
   "cell_type": "code",
   "execution_count": null,
   "id": "3dbb4f0c-a637-4181-a374-8e8652572b41",
   "metadata": {},
   "outputs": [],
   "source": []
  },
  {
   "cell_type": "code",
   "execution_count": 32,
   "id": "dd7535e5-ebac-4ee4-bb0e-08a8fe92da44",
   "metadata": {},
   "outputs": [
    {
     "name": "stdout",
     "output_type": "stream",
     "text": [
      "flipping 0, A\n"
     ]
    },
    {
     "data": {
      "text/html": [
       "<html>\n",
       "<head><meta charset=\"utf-8\" /></head>\n",
       "<body>\n",
       "    <div>            <script src=\"https://cdnjs.cloudflare.com/ajax/libs/mathjax/2.7.5/MathJax.js?config=TeX-AMS-MML_SVG\"></script><script type=\"text/javascript\">if (window.MathJax && window.MathJax.Hub && window.MathJax.Hub.Config) {window.MathJax.Hub.Config({SVG: {font: \"STIX-Web\"}});}</script>                <script type=\"text/javascript\">window.PlotlyConfig = {MathJaxConfig: 'local'};</script>\n",
       "        <script charset=\"utf-8\" src=\"https://cdn.plot.ly/plotly-2.35.2.min.js\"></script>                <div id=\"0c260f9a-6665-4efc-bf51-b4435868450e\" class=\"plotly-graph-div\" style=\"height:525px; width:100%;\"></div>            <script type=\"text/javascript\">                                    window.PLOTLYENV=window.PLOTLYENV || {};                                    if (document.getElementById(\"0c260f9a-6665-4efc-bf51-b4435868450e\")) {                    Plotly.newPlot(                        \"0c260f9a-6665-4efc-bf51-b4435868450e\",                        [{\"mode\":\"lines+markers\",\"name\":\"A\",\"x\":[0,1,2,3,4,5,6,7],\"y\":[2.5269171610635026,3.2950801045335756,2.765180842827121,3.6603825512591164,4.025,3.9342147694292167,5.598854779704151,21.564694082246742],\"type\":\"scatter\"},{\"mode\":\"lines+markers\",\"name\":\"C\",\"x\":[0,1,2,3,4,5,6,7],\"y\":[3.3064424497216227,6.129736163459631,3.342702268620759,3.926254694434961,5.820341499628805,25.79143389199255,30.53053053053053,23.180291153415453],\"type\":\"scatter\"},{\"mode\":\"lines+markers\",\"name\":\"G\",\"x\":[0,1,2,3,4,5,6,7],\"y\":[14.711033274956216,6.977524320697752,4.87284367775209,7.190605239385728,8.311800172265288,5.572811986113649,19.739952718676122,23.3201581027668],\"type\":\"scatter\"}],                        {\"template\":{\"data\":{\"histogram2dcontour\":[{\"type\":\"histogram2dcontour\",\"colorbar\":{\"outlinewidth\":0,\"ticks\":\"\"},\"colorscale\":[[0.0,\"#0d0887\"],[0.1111111111111111,\"#46039f\"],[0.2222222222222222,\"#7201a8\"],[0.3333333333333333,\"#9c179e\"],[0.4444444444444444,\"#bd3786\"],[0.5555555555555556,\"#d8576b\"],[0.6666666666666666,\"#ed7953\"],[0.7777777777777778,\"#fb9f3a\"],[0.8888888888888888,\"#fdca26\"],[1.0,\"#f0f921\"]]}],\"choropleth\":[{\"type\":\"choropleth\",\"colorbar\":{\"outlinewidth\":0,\"ticks\":\"\"}}],\"histogram2d\":[{\"type\":\"histogram2d\",\"colorbar\":{\"outlinewidth\":0,\"ticks\":\"\"},\"colorscale\":[[0.0,\"#0d0887\"],[0.1111111111111111,\"#46039f\"],[0.2222222222222222,\"#7201a8\"],[0.3333333333333333,\"#9c179e\"],[0.4444444444444444,\"#bd3786\"],[0.5555555555555556,\"#d8576b\"],[0.6666666666666666,\"#ed7953\"],[0.7777777777777778,\"#fb9f3a\"],[0.8888888888888888,\"#fdca26\"],[1.0,\"#f0f921\"]]}],\"heatmap\":[{\"type\":\"heatmap\",\"colorbar\":{\"outlinewidth\":0,\"ticks\":\"\"},\"colorscale\":[[0.0,\"#0d0887\"],[0.1111111111111111,\"#46039f\"],[0.2222222222222222,\"#7201a8\"],[0.3333333333333333,\"#9c179e\"],[0.4444444444444444,\"#bd3786\"],[0.5555555555555556,\"#d8576b\"],[0.6666666666666666,\"#ed7953\"],[0.7777777777777778,\"#fb9f3a\"],[0.8888888888888888,\"#fdca26\"],[1.0,\"#f0f921\"]]}],\"heatmapgl\":[{\"type\":\"heatmapgl\",\"colorbar\":{\"outlinewidth\":0,\"ticks\":\"\"},\"colorscale\":[[0.0,\"#0d0887\"],[0.1111111111111111,\"#46039f\"],[0.2222222222222222,\"#7201a8\"],[0.3333333333333333,\"#9c179e\"],[0.4444444444444444,\"#bd3786\"],[0.5555555555555556,\"#d8576b\"],[0.6666666666666666,\"#ed7953\"],[0.7777777777777778,\"#fb9f3a\"],[0.8888888888888888,\"#fdca26\"],[1.0,\"#f0f921\"]]}],\"contourcarpet\":[{\"type\":\"contourcarpet\",\"colorbar\":{\"outlinewidth\":0,\"ticks\":\"\"}}],\"contour\":[{\"type\":\"contour\",\"colorbar\":{\"outlinewidth\":0,\"ticks\":\"\"},\"colorscale\":[[0.0,\"#0d0887\"],[0.1111111111111111,\"#46039f\"],[0.2222222222222222,\"#7201a8\"],[0.3333333333333333,\"#9c179e\"],[0.4444444444444444,\"#bd3786\"],[0.5555555555555556,\"#d8576b\"],[0.6666666666666666,\"#ed7953\"],[0.7777777777777778,\"#fb9f3a\"],[0.8888888888888888,\"#fdca26\"],[1.0,\"#f0f921\"]]}],\"surface\":[{\"type\":\"surface\",\"colorbar\":{\"outlinewidth\":0,\"ticks\":\"\"},\"colorscale\":[[0.0,\"#0d0887\"],[0.1111111111111111,\"#46039f\"],[0.2222222222222222,\"#7201a8\"],[0.3333333333333333,\"#9c179e\"],[0.4444444444444444,\"#bd3786\"],[0.5555555555555556,\"#d8576b\"],[0.6666666666666666,\"#ed7953\"],[0.7777777777777778,\"#fb9f3a\"],[0.8888888888888888,\"#fdca26\"],[1.0,\"#f0f921\"]]}],\"mesh3d\":[{\"type\":\"mesh3d\",\"colorbar\":{\"outlinewidth\":0,\"ticks\":\"\"}}],\"scatter\":[{\"fillpattern\":{\"fillmode\":\"overlay\",\"size\":10,\"solidity\":0.2},\"type\":\"scatter\"}],\"parcoords\":[{\"type\":\"parcoords\",\"line\":{\"colorbar\":{\"outlinewidth\":0,\"ticks\":\"\"}}}],\"scatterpolargl\":[{\"type\":\"scatterpolargl\",\"marker\":{\"colorbar\":{\"outlinewidth\":0,\"ticks\":\"\"}}}],\"bar\":[{\"error_x\":{\"color\":\"#2a3f5f\"},\"error_y\":{\"color\":\"#2a3f5f\"},\"marker\":{\"line\":{\"color\":\"#E5ECF6\",\"width\":0.5},\"pattern\":{\"fillmode\":\"overlay\",\"size\":10,\"solidity\":0.2}},\"type\":\"bar\"}],\"scattergeo\":[{\"type\":\"scattergeo\",\"marker\":{\"colorbar\":{\"outlinewidth\":0,\"ticks\":\"\"}}}],\"scatterpolar\":[{\"type\":\"scatterpolar\",\"marker\":{\"colorbar\":{\"outlinewidth\":0,\"ticks\":\"\"}}}],\"histogram\":[{\"marker\":{\"pattern\":{\"fillmode\":\"overlay\",\"size\":10,\"solidity\":0.2}},\"type\":\"histogram\"}],\"scattergl\":[{\"type\":\"scattergl\",\"marker\":{\"colorbar\":{\"outlinewidth\":0,\"ticks\":\"\"}}}],\"scatter3d\":[{\"type\":\"scatter3d\",\"line\":{\"colorbar\":{\"outlinewidth\":0,\"ticks\":\"\"}},\"marker\":{\"colorbar\":{\"outlinewidth\":0,\"ticks\":\"\"}}}],\"scattermapbox\":[{\"type\":\"scattermapbox\",\"marker\":{\"colorbar\":{\"outlinewidth\":0,\"ticks\":\"\"}}}],\"scatterternary\":[{\"type\":\"scatterternary\",\"marker\":{\"colorbar\":{\"outlinewidth\":0,\"ticks\":\"\"}}}],\"scattercarpet\":[{\"type\":\"scattercarpet\",\"marker\":{\"colorbar\":{\"outlinewidth\":0,\"ticks\":\"\"}}}],\"carpet\":[{\"aaxis\":{\"endlinecolor\":\"#2a3f5f\",\"gridcolor\":\"white\",\"linecolor\":\"white\",\"minorgridcolor\":\"white\",\"startlinecolor\":\"#2a3f5f\"},\"baxis\":{\"endlinecolor\":\"#2a3f5f\",\"gridcolor\":\"white\",\"linecolor\":\"white\",\"minorgridcolor\":\"white\",\"startlinecolor\":\"#2a3f5f\"},\"type\":\"carpet\"}],\"table\":[{\"cells\":{\"fill\":{\"color\":\"#EBF0F8\"},\"line\":{\"color\":\"white\"}},\"header\":{\"fill\":{\"color\":\"#C8D4E3\"},\"line\":{\"color\":\"white\"}},\"type\":\"table\"}],\"barpolar\":[{\"marker\":{\"line\":{\"color\":\"#E5ECF6\",\"width\":0.5},\"pattern\":{\"fillmode\":\"overlay\",\"size\":10,\"solidity\":0.2}},\"type\":\"barpolar\"}],\"pie\":[{\"automargin\":true,\"type\":\"pie\"}]},\"layout\":{\"autotypenumbers\":\"strict\",\"colorway\":[\"#636efa\",\"#EF553B\",\"#00cc96\",\"#ab63fa\",\"#FFA15A\",\"#19d3f3\",\"#FF6692\",\"#B6E880\",\"#FF97FF\",\"#FECB52\"],\"font\":{\"color\":\"#2a3f5f\"},\"hovermode\":\"closest\",\"hoverlabel\":{\"align\":\"left\"},\"paper_bgcolor\":\"white\",\"plot_bgcolor\":\"#E5ECF6\",\"polar\":{\"bgcolor\":\"#E5ECF6\",\"angularaxis\":{\"gridcolor\":\"white\",\"linecolor\":\"white\",\"ticks\":\"\"},\"radialaxis\":{\"gridcolor\":\"white\",\"linecolor\":\"white\",\"ticks\":\"\"}},\"ternary\":{\"bgcolor\":\"#E5ECF6\",\"aaxis\":{\"gridcolor\":\"white\",\"linecolor\":\"white\",\"ticks\":\"\"},\"baxis\":{\"gridcolor\":\"white\",\"linecolor\":\"white\",\"ticks\":\"\"},\"caxis\":{\"gridcolor\":\"white\",\"linecolor\":\"white\",\"ticks\":\"\"}},\"coloraxis\":{\"colorbar\":{\"outlinewidth\":0,\"ticks\":\"\"}},\"colorscale\":{\"sequential\":[[0.0,\"#0d0887\"],[0.1111111111111111,\"#46039f\"],[0.2222222222222222,\"#7201a8\"],[0.3333333333333333,\"#9c179e\"],[0.4444444444444444,\"#bd3786\"],[0.5555555555555556,\"#d8576b\"],[0.6666666666666666,\"#ed7953\"],[0.7777777777777778,\"#fb9f3a\"],[0.8888888888888888,\"#fdca26\"],[1.0,\"#f0f921\"]],\"sequentialminus\":[[0.0,\"#0d0887\"],[0.1111111111111111,\"#46039f\"],[0.2222222222222222,\"#7201a8\"],[0.3333333333333333,\"#9c179e\"],[0.4444444444444444,\"#bd3786\"],[0.5555555555555556,\"#d8576b\"],[0.6666666666666666,\"#ed7953\"],[0.7777777777777778,\"#fb9f3a\"],[0.8888888888888888,\"#fdca26\"],[1.0,\"#f0f921\"]],\"diverging\":[[0,\"#8e0152\"],[0.1,\"#c51b7d\"],[0.2,\"#de77ae\"],[0.3,\"#f1b6da\"],[0.4,\"#fde0ef\"],[0.5,\"#f7f7f7\"],[0.6,\"#e6f5d0\"],[0.7,\"#b8e186\"],[0.8,\"#7fbc41\"],[0.9,\"#4d9221\"],[1,\"#276419\"]]},\"xaxis\":{\"gridcolor\":\"white\",\"linecolor\":\"white\",\"ticks\":\"\",\"title\":{\"standoff\":15},\"zerolinecolor\":\"white\",\"automargin\":true,\"zerolinewidth\":2},\"yaxis\":{\"gridcolor\":\"white\",\"linecolor\":\"white\",\"ticks\":\"\",\"title\":{\"standoff\":15},\"zerolinecolor\":\"white\",\"automargin\":true,\"zerolinewidth\":2},\"scene\":{\"xaxis\":{\"backgroundcolor\":\"#E5ECF6\",\"gridcolor\":\"white\",\"linecolor\":\"white\",\"showbackground\":true,\"ticks\":\"\",\"zerolinecolor\":\"white\",\"gridwidth\":2},\"yaxis\":{\"backgroundcolor\":\"#E5ECF6\",\"gridcolor\":\"white\",\"linecolor\":\"white\",\"showbackground\":true,\"ticks\":\"\",\"zerolinecolor\":\"white\",\"gridwidth\":2},\"zaxis\":{\"backgroundcolor\":\"#E5ECF6\",\"gridcolor\":\"white\",\"linecolor\":\"white\",\"showbackground\":true,\"ticks\":\"\",\"zerolinecolor\":\"white\",\"gridwidth\":2}},\"shapedefaults\":{\"line\":{\"color\":\"#2a3f5f\"}},\"annotationdefaults\":{\"arrowcolor\":\"#2a3f5f\",\"arrowhead\":0,\"arrowwidth\":1},\"geo\":{\"bgcolor\":\"white\",\"landcolor\":\"#E5ECF6\",\"subunitcolor\":\"white\",\"showland\":true,\"showlakes\":true,\"lakecolor\":\"white\"},\"title\":{\"x\":0.05},\"mapbox\":{\"style\":\"light\"}}},\"title\":{\"text\":\"Response curves for each replicate (thresh = 20)\",\"font\":{\"size\":24}},\"xaxis\":{\"title\":{\"text\":\"Concentration Group\",\"font\":{\"size\":22}},\"tickfont\":{\"size\":18}},\"yaxis\":{\"title\":{\"text\":\"Response (%)\",\"font\":{\"size\":22}},\"tickfont\":{\"size\":14}},\"legend\":{\"title\":{\"text\":\"Replicates\"}}},                        {\"responsive\": true}                    ).then(function(){\n",
       "                            \n",
       "var gd = document.getElementById('0c260f9a-6665-4efc-bf51-b4435868450e');\n",
       "var x = new MutationObserver(function (mutations, observer) {{\n",
       "        var display = window.getComputedStyle(gd).display;\n",
       "        if (!display || display === 'none') {{\n",
       "            console.log([gd, 'removed!']);\n",
       "            Plotly.purge(gd);\n",
       "            observer.disconnect();\n",
       "        }}\n",
       "}});\n",
       "\n",
       "// Listen for the removal of the full notebook cells\n",
       "var notebookContainer = gd.closest('#notebook-container');\n",
       "if (notebookContainer) {{\n",
       "    x.observe(notebookContainer, {childList: true});\n",
       "}}\n",
       "\n",
       "// Listen for the clearing of the current output cell\n",
       "var outputEl = gd.closest('.output');\n",
       "if (outputEl) {{\n",
       "    x.observe(outputEl, {childList: true});\n",
       "}}\n",
       "\n",
       "                        })                };                            </script>        </div>\n",
       "</body>\n",
       "</html>"
      ]
     },
     "metadata": {},
     "output_type": "display_data"
    }
   ],
   "source": [
    "count_ratio(data, row_ids = [\"A\", \"C\", \"G\"], col_ids = [2,3,4,5,8,9,10,11], thresh = 20)"
   ]
  },
  {
   "cell_type": "code",
   "execution_count": 17,
   "id": "7805e17b-9130-47e8-b086-d9622f5428b1",
   "metadata": {},
   "outputs": [
    {
     "name": "stdout",
     "output_type": "stream",
     "text": [
      "0        371.181976\n",
      "1          0.000000\n",
      "2         10.891447\n",
      "3          0.023256\n",
      "4          0.000000\n",
      "           ...     \n",
      "5816       0.000000\n",
      "5817    7191.169811\n",
      "5818    7314.082294\n",
      "5819    7725.034524\n",
      "5820    7625.802062\n",
      "Name: AvgIntenCh2, Length: 5821, dtype: float64\n"
     ]
    }
   ],
   "source": [
    "for well, df in positive_controls_data.items():\n",
    "    print(df['data'].AvgIntenCh2)\n",
    "    break"
   ]
  },
  {
   "cell_type": "code",
   "execution_count": 18,
   "id": "612cef7e-8655-46a1-a224-e5161d90b199",
   "metadata": {},
   "outputs": [],
   "source": [
    "def calculate_dead_cell_percentages(data, thresh=20):\n",
    "    percentages = {}\n",
    "    for well, df_ in data.items():\n",
    "        df = df_['data']\n",
    "        f_df = df[df.Well == well]\n",
    "        dead_count = (f_df.AvgIntenCh2.values > thresh).sum()\n",
    "        total_count = len(df)\n",
    "        percentage = (dead_count / total_count * 100)\n",
    "        percentages[well] = percentage\n",
    "    return percentages\n",
    "\n",
    "def plot_dead_cell_percentages(positive_controls_data, negative_controls_data, channel=\"AvgIntenCh2\", thresh=20):\n",
    "    # Calculate dead cell percentages\n",
    "    neg_percentages = calculate_dead_cell_percentages(negative_controls_data, thresh)\n",
    "    pos_percentages = calculate_dead_cell_percentages(positive_controls_data, thresh)\n",
    "    \n",
    "    # Wells for x-axis\n",
    "    neg_wells = list(negative_controls_data.keys())\n",
    "    pos_wells = list(positive_controls_data.keys())\n",
    "    \n",
    "    # Create the bar chart\n",
    "    fig = go.Figure(data=[\n",
    "        go.Bar(\n",
    "            name='Negative Controls', \n",
    "            x=neg_wells, \n",
    "            y=list(neg_percentages.values()), \n",
    "            marker_color='red',\n",
    "            text=[f\"{p:.1f}%\" for p in neg_percentages.values()],\n",
    "            textposition='outside',\n",
    "            texttemplate='%{text}'\n",
    "        ),\n",
    "        go.Bar(\n",
    "            name='Positive Controls', \n",
    "            x=pos_wells, \n",
    "            y=list(pos_percentages.values()), \n",
    "            marker_color='green',\n",
    "            text=[f\"{p:.1f}%\" for p in pos_percentages.values()],\n",
    "            textposition='outside',\n",
    "            texttemplate='%{text}'\n",
    "        )\n",
    "    ])\n",
    "\n",
    "    # Customize the layout\n",
    "    fig.update_layout(\n",
    "        width=1400,\n",
    "        height=800,\n",
    "        barmode='group',\n",
    "        title=f\"Dead Cell Percentages (Threshold: {thresh})\",\n",
    "        xaxis_title='Wells',\n",
    "        yaxis_title='Dead Cell Percentage',\n",
    "        legend_title='Control Type',\n",
    "        xaxis_tickangle=-45,\n",
    "        legend=dict(\n",
    "            x=0.2,\n",
    "            y=0.95,\n",
    "            xanchor='center',\n",
    "            yanchor='top'\n",
    "        ),\n",
    "        legend_font_size=16\n",
    "    )\n",
    "\n",
    "    # Increase font sizes\n",
    "    fig.update_traces(textfont_size=26, textangle=0, textposition=\"outside\", cliponaxis=False)\n",
    "    fig.update_xaxes(title_font=dict(size=22), tickfont=dict(size=18))\n",
    "    fig.update_yaxes(title_font=dict(size=22), tickfont=dict(size=14))\n",
    "    fig.update_layout(title_font=dict(size=24))\n",
    "    \n",
    "    # Show and save the plot\n",
    "    fig.show()\n",
    "    fig.write_image(f\"images/48_dead_cell_percentages_{channel}_thresh_{thresh}.pdf\")"
   ]
  },
  {
   "cell_type": "code",
   "execution_count": 19,
   "id": "0d1953db-081d-406b-8870-7de366479b49",
   "metadata": {},
   "outputs": [
    {
     "data": {
      "text/html": [
       "<html>\n",
       "<head><meta charset=\"utf-8\" /></head>\n",
       "<body>\n",
       "    <div>            <script src=\"https://cdnjs.cloudflare.com/ajax/libs/mathjax/2.7.5/MathJax.js?config=TeX-AMS-MML_SVG\"></script><script type=\"text/javascript\">if (window.MathJax && window.MathJax.Hub && window.MathJax.Hub.Config) {window.MathJax.Hub.Config({SVG: {font: \"STIX-Web\"}});}</script>                <script type=\"text/javascript\">window.PlotlyConfig = {MathJaxConfig: 'local'};</script>\n",
       "        <script charset=\"utf-8\" src=\"https://cdn.plot.ly/plotly-2.35.2.min.js\"></script>                <div id=\"910f2861-02fa-4d1e-8849-334c21ae0f26\" class=\"plotly-graph-div\" style=\"height:800px; width:1400px;\"></div>            <script type=\"text/javascript\">                                    window.PLOTLYENV=window.PLOTLYENV || {};                                    if (document.getElementById(\"910f2861-02fa-4d1e-8849-334c21ae0f26\")) {                    Plotly.newPlot(                        \"910f2861-02fa-4d1e-8849-334c21ae0f26\",                        [{\"marker\":{\"color\":\"red\"},\"name\":\"Negative Controls\",\"text\":[\"0.6%\",\"0.5%\",\"0.5%\",\"0.8%\",\"0.5%\",\"0.8%\",\"1.0%\",\"0.8%\",\"0.7%\",\"1.0%\",\"0.8%\",\"1.1%\",\"1.4%\",\"1.8%\",\"1.6%\",\"1.3%\"],\"textposition\":\"outside\",\"texttemplate\":\"%{text}\",\"x\":[\"A6\",\"A12\",\"B7\",\"B1\",\"C6\",\"C12\",\"D7\",\"D1\",\"E6\",\"E12\",\"F7\",\"F1\",\"G6\",\"G12\",\"H7\",\"H1\"],\"y\":[0.5880376344086021,0.5203405865657522,0.469559585492228,0.8373205741626795,0.5353620738236123,0.7582515611061552,1.0137581462708183,0.8174386920980926,0.7254554247944544,0.9694258016405668,0.7759735594194568,1.0675656693355808,1.4018691588785046,1.849112426035503,1.5732265446224258,1.2630662020905923],\"type\":\"bar\",\"textfont\":{\"size\":26},\"cliponaxis\":false,\"textangle\":0},{\"marker\":{\"color\":\"green\"},\"name\":\"Positive Controls\",\"text\":[\"39.0%\",\"43.3%\",\"32.5%\",\"69.6%\",\"42.2%\",\"5.4%\",\"28.2%\",\"60.8%\",\"21.3%\",\"61.0%\",\"43.7%\",\"45.7%\",\"33.2%\",\"23.2%\",\"13.6%\",\"26.9%\"],\"textposition\":\"outside\",\"texttemplate\":\"%{text}\",\"x\":[\"A1\",\"A7\",\"B12\",\"B6\",\"C1\",\"C7\",\"D12\",\"D6\",\"E1\",\"E7\",\"F12\",\"F6\",\"G1\",\"G7\",\"H12\",\"H6\"],\"y\":[39.04827349252706,43.31831831831832,32.50414593698176,69.58,42.17937971500419,5.411255411255411,28.24935488252071,60.796139927623635,21.2671406805485,60.99858690532266,43.72996794871795,45.672514619883046,33.1858407079646,23.240066436693496,13.630423418714061,26.88026065707304],\"type\":\"bar\",\"textfont\":{\"size\":26},\"cliponaxis\":false,\"textangle\":0}],                        {\"template\":{\"data\":{\"histogram2dcontour\":[{\"type\":\"histogram2dcontour\",\"colorbar\":{\"outlinewidth\":0,\"ticks\":\"\"},\"colorscale\":[[0.0,\"#0d0887\"],[0.1111111111111111,\"#46039f\"],[0.2222222222222222,\"#7201a8\"],[0.3333333333333333,\"#9c179e\"],[0.4444444444444444,\"#bd3786\"],[0.5555555555555556,\"#d8576b\"],[0.6666666666666666,\"#ed7953\"],[0.7777777777777778,\"#fb9f3a\"],[0.8888888888888888,\"#fdca26\"],[1.0,\"#f0f921\"]]}],\"choropleth\":[{\"type\":\"choropleth\",\"colorbar\":{\"outlinewidth\":0,\"ticks\":\"\"}}],\"histogram2d\":[{\"type\":\"histogram2d\",\"colorbar\":{\"outlinewidth\":0,\"ticks\":\"\"},\"colorscale\":[[0.0,\"#0d0887\"],[0.1111111111111111,\"#46039f\"],[0.2222222222222222,\"#7201a8\"],[0.3333333333333333,\"#9c179e\"],[0.4444444444444444,\"#bd3786\"],[0.5555555555555556,\"#d8576b\"],[0.6666666666666666,\"#ed7953\"],[0.7777777777777778,\"#fb9f3a\"],[0.8888888888888888,\"#fdca26\"],[1.0,\"#f0f921\"]]}],\"heatmap\":[{\"type\":\"heatmap\",\"colorbar\":{\"outlinewidth\":0,\"ticks\":\"\"},\"colorscale\":[[0.0,\"#0d0887\"],[0.1111111111111111,\"#46039f\"],[0.2222222222222222,\"#7201a8\"],[0.3333333333333333,\"#9c179e\"],[0.4444444444444444,\"#bd3786\"],[0.5555555555555556,\"#d8576b\"],[0.6666666666666666,\"#ed7953\"],[0.7777777777777778,\"#fb9f3a\"],[0.8888888888888888,\"#fdca26\"],[1.0,\"#f0f921\"]]}],\"heatmapgl\":[{\"type\":\"heatmapgl\",\"colorbar\":{\"outlinewidth\":0,\"ticks\":\"\"},\"colorscale\":[[0.0,\"#0d0887\"],[0.1111111111111111,\"#46039f\"],[0.2222222222222222,\"#7201a8\"],[0.3333333333333333,\"#9c179e\"],[0.4444444444444444,\"#bd3786\"],[0.5555555555555556,\"#d8576b\"],[0.6666666666666666,\"#ed7953\"],[0.7777777777777778,\"#fb9f3a\"],[0.8888888888888888,\"#fdca26\"],[1.0,\"#f0f921\"]]}],\"contourcarpet\":[{\"type\":\"contourcarpet\",\"colorbar\":{\"outlinewidth\":0,\"ticks\":\"\"}}],\"contour\":[{\"type\":\"contour\",\"colorbar\":{\"outlinewidth\":0,\"ticks\":\"\"},\"colorscale\":[[0.0,\"#0d0887\"],[0.1111111111111111,\"#46039f\"],[0.2222222222222222,\"#7201a8\"],[0.3333333333333333,\"#9c179e\"],[0.4444444444444444,\"#bd3786\"],[0.5555555555555556,\"#d8576b\"],[0.6666666666666666,\"#ed7953\"],[0.7777777777777778,\"#fb9f3a\"],[0.8888888888888888,\"#fdca26\"],[1.0,\"#f0f921\"]]}],\"surface\":[{\"type\":\"surface\",\"colorbar\":{\"outlinewidth\":0,\"ticks\":\"\"},\"colorscale\":[[0.0,\"#0d0887\"],[0.1111111111111111,\"#46039f\"],[0.2222222222222222,\"#7201a8\"],[0.3333333333333333,\"#9c179e\"],[0.4444444444444444,\"#bd3786\"],[0.5555555555555556,\"#d8576b\"],[0.6666666666666666,\"#ed7953\"],[0.7777777777777778,\"#fb9f3a\"],[0.8888888888888888,\"#fdca26\"],[1.0,\"#f0f921\"]]}],\"mesh3d\":[{\"type\":\"mesh3d\",\"colorbar\":{\"outlinewidth\":0,\"ticks\":\"\"}}],\"scatter\":[{\"fillpattern\":{\"fillmode\":\"overlay\",\"size\":10,\"solidity\":0.2},\"type\":\"scatter\"}],\"parcoords\":[{\"type\":\"parcoords\",\"line\":{\"colorbar\":{\"outlinewidth\":0,\"ticks\":\"\"}}}],\"scatterpolargl\":[{\"type\":\"scatterpolargl\",\"marker\":{\"colorbar\":{\"outlinewidth\":0,\"ticks\":\"\"}}}],\"bar\":[{\"error_x\":{\"color\":\"#2a3f5f\"},\"error_y\":{\"color\":\"#2a3f5f\"},\"marker\":{\"line\":{\"color\":\"#E5ECF6\",\"width\":0.5},\"pattern\":{\"fillmode\":\"overlay\",\"size\":10,\"solidity\":0.2}},\"type\":\"bar\"}],\"scattergeo\":[{\"type\":\"scattergeo\",\"marker\":{\"colorbar\":{\"outlinewidth\":0,\"ticks\":\"\"}}}],\"scatterpolar\":[{\"type\":\"scatterpolar\",\"marker\":{\"colorbar\":{\"outlinewidth\":0,\"ticks\":\"\"}}}],\"histogram\":[{\"marker\":{\"pattern\":{\"fillmode\":\"overlay\",\"size\":10,\"solidity\":0.2}},\"type\":\"histogram\"}],\"scattergl\":[{\"type\":\"scattergl\",\"marker\":{\"colorbar\":{\"outlinewidth\":0,\"ticks\":\"\"}}}],\"scatter3d\":[{\"type\":\"scatter3d\",\"line\":{\"colorbar\":{\"outlinewidth\":0,\"ticks\":\"\"}},\"marker\":{\"colorbar\":{\"outlinewidth\":0,\"ticks\":\"\"}}}],\"scattermapbox\":[{\"type\":\"scattermapbox\",\"marker\":{\"colorbar\":{\"outlinewidth\":0,\"ticks\":\"\"}}}],\"scatterternary\":[{\"type\":\"scatterternary\",\"marker\":{\"colorbar\":{\"outlinewidth\":0,\"ticks\":\"\"}}}],\"scattercarpet\":[{\"type\":\"scattercarpet\",\"marker\":{\"colorbar\":{\"outlinewidth\":0,\"ticks\":\"\"}}}],\"carpet\":[{\"aaxis\":{\"endlinecolor\":\"#2a3f5f\",\"gridcolor\":\"white\",\"linecolor\":\"white\",\"minorgridcolor\":\"white\",\"startlinecolor\":\"#2a3f5f\"},\"baxis\":{\"endlinecolor\":\"#2a3f5f\",\"gridcolor\":\"white\",\"linecolor\":\"white\",\"minorgridcolor\":\"white\",\"startlinecolor\":\"#2a3f5f\"},\"type\":\"carpet\"}],\"table\":[{\"cells\":{\"fill\":{\"color\":\"#EBF0F8\"},\"line\":{\"color\":\"white\"}},\"header\":{\"fill\":{\"color\":\"#C8D4E3\"},\"line\":{\"color\":\"white\"}},\"type\":\"table\"}],\"barpolar\":[{\"marker\":{\"line\":{\"color\":\"#E5ECF6\",\"width\":0.5},\"pattern\":{\"fillmode\":\"overlay\",\"size\":10,\"solidity\":0.2}},\"type\":\"barpolar\"}],\"pie\":[{\"automargin\":true,\"type\":\"pie\"}]},\"layout\":{\"autotypenumbers\":\"strict\",\"colorway\":[\"#636efa\",\"#EF553B\",\"#00cc96\",\"#ab63fa\",\"#FFA15A\",\"#19d3f3\",\"#FF6692\",\"#B6E880\",\"#FF97FF\",\"#FECB52\"],\"font\":{\"color\":\"#2a3f5f\"},\"hovermode\":\"closest\",\"hoverlabel\":{\"align\":\"left\"},\"paper_bgcolor\":\"white\",\"plot_bgcolor\":\"#E5ECF6\",\"polar\":{\"bgcolor\":\"#E5ECF6\",\"angularaxis\":{\"gridcolor\":\"white\",\"linecolor\":\"white\",\"ticks\":\"\"},\"radialaxis\":{\"gridcolor\":\"white\",\"linecolor\":\"white\",\"ticks\":\"\"}},\"ternary\":{\"bgcolor\":\"#E5ECF6\",\"aaxis\":{\"gridcolor\":\"white\",\"linecolor\":\"white\",\"ticks\":\"\"},\"baxis\":{\"gridcolor\":\"white\",\"linecolor\":\"white\",\"ticks\":\"\"},\"caxis\":{\"gridcolor\":\"white\",\"linecolor\":\"white\",\"ticks\":\"\"}},\"coloraxis\":{\"colorbar\":{\"outlinewidth\":0,\"ticks\":\"\"}},\"colorscale\":{\"sequential\":[[0.0,\"#0d0887\"],[0.1111111111111111,\"#46039f\"],[0.2222222222222222,\"#7201a8\"],[0.3333333333333333,\"#9c179e\"],[0.4444444444444444,\"#bd3786\"],[0.5555555555555556,\"#d8576b\"],[0.6666666666666666,\"#ed7953\"],[0.7777777777777778,\"#fb9f3a\"],[0.8888888888888888,\"#fdca26\"],[1.0,\"#f0f921\"]],\"sequentialminus\":[[0.0,\"#0d0887\"],[0.1111111111111111,\"#46039f\"],[0.2222222222222222,\"#7201a8\"],[0.3333333333333333,\"#9c179e\"],[0.4444444444444444,\"#bd3786\"],[0.5555555555555556,\"#d8576b\"],[0.6666666666666666,\"#ed7953\"],[0.7777777777777778,\"#fb9f3a\"],[0.8888888888888888,\"#fdca26\"],[1.0,\"#f0f921\"]],\"diverging\":[[0,\"#8e0152\"],[0.1,\"#c51b7d\"],[0.2,\"#de77ae\"],[0.3,\"#f1b6da\"],[0.4,\"#fde0ef\"],[0.5,\"#f7f7f7\"],[0.6,\"#e6f5d0\"],[0.7,\"#b8e186\"],[0.8,\"#7fbc41\"],[0.9,\"#4d9221\"],[1,\"#276419\"]]},\"xaxis\":{\"gridcolor\":\"white\",\"linecolor\":\"white\",\"ticks\":\"\",\"title\":{\"standoff\":15},\"zerolinecolor\":\"white\",\"automargin\":true,\"zerolinewidth\":2},\"yaxis\":{\"gridcolor\":\"white\",\"linecolor\":\"white\",\"ticks\":\"\",\"title\":{\"standoff\":15},\"zerolinecolor\":\"white\",\"automargin\":true,\"zerolinewidth\":2},\"scene\":{\"xaxis\":{\"backgroundcolor\":\"#E5ECF6\",\"gridcolor\":\"white\",\"linecolor\":\"white\",\"showbackground\":true,\"ticks\":\"\",\"zerolinecolor\":\"white\",\"gridwidth\":2},\"yaxis\":{\"backgroundcolor\":\"#E5ECF6\",\"gridcolor\":\"white\",\"linecolor\":\"white\",\"showbackground\":true,\"ticks\":\"\",\"zerolinecolor\":\"white\",\"gridwidth\":2},\"zaxis\":{\"backgroundcolor\":\"#E5ECF6\",\"gridcolor\":\"white\",\"linecolor\":\"white\",\"showbackground\":true,\"ticks\":\"\",\"zerolinecolor\":\"white\",\"gridwidth\":2}},\"shapedefaults\":{\"line\":{\"color\":\"#2a3f5f\"}},\"annotationdefaults\":{\"arrowcolor\":\"#2a3f5f\",\"arrowhead\":0,\"arrowwidth\":1},\"geo\":{\"bgcolor\":\"white\",\"landcolor\":\"#E5ECF6\",\"subunitcolor\":\"white\",\"showland\":true,\"showlakes\":true,\"lakecolor\":\"white\"},\"title\":{\"x\":0.05},\"mapbox\":{\"style\":\"light\"}}},\"xaxis\":{\"title\":{\"text\":\"Wells\",\"font\":{\"size\":22}},\"tickangle\":-45,\"tickfont\":{\"size\":18}},\"legend\":{\"font\":{\"size\":16},\"title\":{\"text\":\"Control Type\"},\"x\":0.2,\"y\":0.95,\"xanchor\":\"center\",\"yanchor\":\"top\"},\"width\":1400,\"height\":800,\"barmode\":\"group\",\"title\":{\"text\":\"Dead Cell Percentages (Threshold: 100)\",\"font\":{\"size\":24}},\"yaxis\":{\"title\":{\"text\":\"Dead Cell Percentage\",\"font\":{\"size\":22}},\"tickfont\":{\"size\":14}}},                        {\"responsive\": true}                    ).then(function(){\n",
       "                            \n",
       "var gd = document.getElementById('910f2861-02fa-4d1e-8849-334c21ae0f26');\n",
       "var x = new MutationObserver(function (mutations, observer) {{\n",
       "        var display = window.getComputedStyle(gd).display;\n",
       "        if (!display || display === 'none') {{\n",
       "            console.log([gd, 'removed!']);\n",
       "            Plotly.purge(gd);\n",
       "            observer.disconnect();\n",
       "        }}\n",
       "}});\n",
       "\n",
       "// Listen for the removal of the full notebook cells\n",
       "var notebookContainer = gd.closest('#notebook-container');\n",
       "if (notebookContainer) {{\n",
       "    x.observe(notebookContainer, {childList: true});\n",
       "}}\n",
       "\n",
       "// Listen for the clearing of the current output cell\n",
       "var outputEl = gd.closest('.output');\n",
       "if (outputEl) {{\n",
       "    x.observe(outputEl, {childList: true});\n",
       "}}\n",
       "\n",
       "                        })                };                            </script>        </div>\n",
       "</body>\n",
       "</html>"
      ]
     },
     "metadata": {},
     "output_type": "display_data"
    }
   ],
   "source": [
    "plot_dead_cell_percentages(positive_controls_data, negative_controls_data, channel=\"AvgIntenCh2\", thresh=100)"
   ]
  },
  {
   "cell_type": "code",
   "execution_count": null,
   "id": "5e252c00-a09f-4366-8ebc-df3cdcc05736",
   "metadata": {},
   "outputs": [],
   "source": []
  }
 ],
 "metadata": {
  "kernelspec": {
   "display_name": "rot1",
   "language": "python",
   "name": "rot1"
  },
  "language_info": {
   "codemirror_mode": {
    "name": "ipython",
    "version": 3
   },
   "file_extension": ".py",
   "mimetype": "text/x-python",
   "name": "python",
   "nbconvert_exporter": "python",
   "pygments_lexer": "ipython3",
   "version": "3.11.9"
  }
 },
 "nbformat": 4,
 "nbformat_minor": 5
}
